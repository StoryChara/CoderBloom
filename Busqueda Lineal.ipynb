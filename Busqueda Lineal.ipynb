{
  "nbformat": 4,
  "nbformat_minor": 0,
  "metadata": {
    "colab": {
      "provenance": [],
      "authorship_tag": "ABX9TyP4esgzYAV14b4gxWtiz0X7",
      "include_colab_link": true
    },
    "kernelspec": {
      "name": "python3",
      "display_name": "Python 3"
    },
    "language_info": {
      "name": "python"
    }
  },
  "cells": [
    {
      "cell_type": "markdown",
      "metadata": {
        "id": "view-in-github",
        "colab_type": "text"
      },
      "source": [
        "<a href=\"https://colab.research.google.com/github/StoryChara/CoderBloom_CPCII/blob/main/Busqueda%20Lineal.ipynb\" target=\"_parent\"><img src=\"https://colab.research.google.com/assets/colab-badge.svg\" alt=\"Open In Colab\"/></a>"
      ]
    },
    {
      "cell_type": "code",
      "source": [
        "import unittest"
      ],
      "metadata": {
        "id": "CoZKcwN6VoBZ"
      },
      "execution_count": null,
      "outputs": []
    },
    {
      "cell_type": "markdown",
      "source": [
        "# Busqueda Lineal\n",
        "\n",
        "![image.png](data:image/png;base64,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)"
      ],
      "metadata": {
        "id": "Q-ZiRXH1s43t"
      }
    },
    {
      "cell_type": "markdown",
      "source": [
        "## A. Buscador de Caracteres\n",
        "\n",
        "Bill Gates Necesita modificar Algunas Caracteristicas de su famosos procesador de Texto \"MS Office Word\" y te ha contratado, tu eres el encargado de la interfaz grafica en donde se muestra el status bar, en dicha parte se muestran el total de caracteres que hay en el documento pero tu como novato quieres empezar por mostrar los caracteres especificos de una sola palabra antes de implentarlo de manera recursiva en todo el documento.\n",
        "\n",
        "<br>\n",
        "\n",
        "**Entrada**\n",
        "En la Primera linea un caracter \"c\" que se va a contar en la cadena. En la Segunda linea ,una palabra \"s\" sin espacios en blanco y de longitud variable.\n",
        "\n",
        "\n",
        "**Salida**\n",
        "El numero de veces que se repite el caracter \"c\" en la cadena \"s\".\n",
        "\n",
        "**Ejemplo**\n",
        "\n",
        "| **Entrada**      | **Salida** |\n",
        "|------------------|------------|\n",
        "| a                | 2          |\n",
        "| kcsjasckasjc     |            |\n",
        "|                  |            |\n",
        "| 3                | 2          |\n",
        "| 123456781234     |            |\n",
        "\n",
        "\n",
        "**Límites**\n",
        "* c = 1\n",
        "* 1 >= s <= 1000"
      ],
      "metadata": {
        "id": "HLZO04ixQWFr"
      }
    },
    {
      "cell_type": "code",
      "execution_count": null,
      "metadata": {
        "id": "6xz-SmsNGcoY",
        "colab": {
          "base_uri": "https://localhost:8080/"
        },
        "outputId": "0501acfd-8442-4fdd-a32b-2a593bb31bb1"
      },
      "outputs": [
        {
          "name": "stdout",
          "output_type": "stream",
          "text": [
            "a\n",
            "kcsjasckasjc\n"
          ]
        },
        {
          "output_type": "execute_result",
          "data": {
            "text/plain": [
              "2"
            ]
          },
          "metadata": {},
          "execution_count": 25
        }
      ],
      "source": [
        "def buscador_de_caracteres(letra:str, texto:str) -> int:\n",
        "    cant = 0\n",
        "    for _ in texto:\n",
        "        if _ == letra: cant += 1\n",
        "    return cant\n",
        "\n",
        "letra = input()\n",
        "texto = input()\n",
        "print(buscador_de_caracteres(letra, texto))"
      ]
    },
    {
      "cell_type": "code",
      "source": [
        "class TestA(unittest.TestCase):\n",
        "    def test_1(self):\n",
        "        self.assertEqual(buscador_de_caracteres('a', 'kcsjasckasjc'), 2)\n",
        "\n",
        "    def test_2(self):\n",
        "        self.assertEqual(buscador_de_caracteres('3', '123456781234'), 2)\n",
        "\n",
        "suite = unittest.TestLoader().loadTestsFromTestCase(TestA)\n",
        "runner = unittest.TextTestRunner(verbosity=2)\n",
        "result = runner.run(suite)"
      ],
      "metadata": {
        "colab": {
          "base_uri": "https://localhost:8080/"
        },
        "id": "48hJhTJKVldR",
        "outputId": "5612d95e-80c1-4855-ad15-68a165dfdd1b"
      },
      "execution_count": null,
      "outputs": [
        {
          "output_type": "stream",
          "name": "stderr",
          "text": [
            "test_1 (__main__.TestA.test_1) ... ok\n",
            "test_2 (__main__.TestA.test_2) ... ok\n",
            "\n",
            "----------------------------------------------------------------------\n",
            "Ran 2 tests in 0.004s\n",
            "\n",
            "OK\n"
          ]
        }
      ]
    },
    {
      "cell_type": "markdown",
      "source": [
        "## B. Los Buenos Amigos\n",
        "\n",
        "Hackerman ha iniciado su día resolviendo problemas como buen competidor y buen programador, con el único objetivo de mejorar sus habilidades, hoy después de tanto entrenamiento R2D2 su fiel amigo quiere ayudarlo a mejorar; para esto, R2D2 le da el último problema del día, aquel robot de Star Wars le dio a Hackerman un número y una posición además de eso, R2D2 le dio un arreglo de  números donde el i-ésimo elemento no necesariamente es distinto de los demás (es decir pueden repetirse).\n",
        "\n",
        "Después de esto Hackerman confundido le pregunta a R2D2 que quiere que haga con ellos, a lo que el robot (de pronto puede hablar perfectamente el español latino) le responde amablemente.\n",
        "\n",
        "Quiero que dados los datos anteriormente mencionados, me digas si es posible hacer que todos los elementos del arreglo sean iguales entre sí, aplicando la siguiente operación cualquier número de veces. Toma el elemento en la posición  e inserta una copia del i-ésimo elemento al final del arreglo y posteriormente elimina el primer elemento del arreglo.\n",
        "\n",
        "<br>\n",
        "\n",
        "**Entrada**\n",
        "Un número $n(3 \\leq n \\leq 10^5)$ que denota el tamaño del arreglo, seguido de $i(1 \\leq i \\leq n)$ que denota la posición del elemento a usar seguido de un arreglo de elementos donde el i-ésimo elemento $(1 \\leq a_i \\leq 10^6)$\n",
        "\n",
        "**Salida**\n",
        "Un número entero $k$ si es posible hacer que todos los elementos del arreglo sean iguales usando la operación de R2D2 donde denota la cantidad de veces que deberás aplicar la operación para hacer a todos los elementos iguales, Si no es posible hacer que todos los elementos sean iguales imprime “Imposible” (sin las comillas).\n",
        "\n",
        "| **Entrada**      | **Salida** |\n",
        "|------------------|------------|\n",
        "| 3 2              | 1          |\n",
        "| 1 3 3            |            |\n",
        "|                  |            |\n",
        "| 4 1              | Imposible  |\n",
        "| 1 3 3 2          |            |\n",
        "\n",
        "\n"
      ],
      "metadata": {
        "id": "TBUxk7drhgyk"
      }
    },
    {
      "cell_type": "code",
      "source": [
        "def buenos_amigos(l1:str, l2:str):\n",
        "    tam, pos = map(int, l1.split())\n",
        "    l_2 = list(map(int, l2.split()))\n",
        "\n",
        "    for _ in l_2[pos+1:]:\n",
        "        if _ != l_2[pos]:\n",
        "            return(\"Imposible\")\n",
        "\n",
        "    res = pos\n",
        "\n",
        "    for _ in l_2[pos-1:0:-1]:\n",
        "        if _ != l_2[pos]: break\n",
        "        else:             res -= 1\n",
        "\n",
        "    return res\n",
        "\n",
        "l1=input()\n",
        "l2=input()\n",
        "\n",
        "print(buenos_amigos(l1, l2))"
      ],
      "metadata": {
        "colab": {
          "base_uri": "https://localhost:8080/"
        },
        "id": "A4EpkpZChgfr",
        "outputId": "96f7c6de-82fa-4a03-8c27-2f8465337e61"
      },
      "execution_count": null,
      "outputs": [
        {
          "output_type": "stream",
          "name": "stdout",
          "text": [
            "Imposible\n"
          ]
        }
      ]
    },
    {
      "cell_type": "code",
      "source": [
        "class TestB(unittest.TestCase):\n",
        "    def test_1(self):\n",
        "        l1 = \"3 2\"; l2 = \"1 3 3\"\n",
        "        self.assertEqual(buenos_amigos(l1, l2), 1)\n",
        "\n",
        "    def test_2(self):\n",
        "        l1 = \"4 1\"; l2 = \"1 3 3 2\"\n",
        "        self.assertEqual(buenos_amigos(l1, l2), \"Imposible\")\n",
        "\n",
        "suite = unittest.TestLoader().loadTestsFromTestCase(TestB)\n",
        "runner = unittest.TextTestRunner(verbosity=2)\n",
        "result = runner.run(suite)"
      ],
      "metadata": {
        "colab": {
          "base_uri": "https://localhost:8080/"
        },
        "id": "jzAZaIoLfhju",
        "outputId": "473a7c4c-889c-4818-a2d2-1e129e18c25b"
      },
      "execution_count": null,
      "outputs": [
        {
          "output_type": "stream",
          "name": "stderr",
          "text": [
            "test_1 (__main__.TestB.test_1) ... ok\n",
            "test_2 (__main__.TestB.test_2) ... ok\n",
            "\n",
            "----------------------------------------------------------------------\n",
            "Ran 2 tests in 0.004s\n",
            "\n",
            "OK\n"
          ]
        }
      ]
    },
    {
      "cell_type": "markdown",
      "source": [
        "## C. No es lo mismo\n",
        "\n",
        "Alicia sostenía una alocada conversación con el Sombrerero, la Liebre y el Lirón. De pronto, el Sombrerero preguntó \"¿En qué se parece un cuervo a un escritorio?\" a lo que Alicia respondió \"Creo que puedo adivinar la respuesta\". La Liebre, confundida, dijo \"¿Quieres decir que piensas que puedes encontrar la respuesta?\" a lo que Alicia respondió \"¡Exactamente!\". La Liebre, indignada, dijo \"Entonces debes decir lo que quieres decir\" a lo que Alicia respondió \"Al menos quiero decir lo que dije, lo cual es lo mismo\". \"¡No es lo mismo!\" dijo el Sombrerero, \"Es como si dijeras que 'veo lo que como' es lo mismo que 'como lo que veo'\". \"O como si dijeras 'me gusta lo que me dan' es lo mismo que 'me dan lo que me gusta'\" dijo la Liebre. \"O como si dijeras 'respiro lo que sueño' es lo mismo que 'sueño lo que respiro'\" dijo el Lirón mientras dormía.\n",
        "\n",
        "Dada una frase, ayuda a Alicia a construir la frase análoga a la que se refieren el Sombrerero, la Liebre y el Lirón.\n",
        "\n",
        "**Entrada**\n",
        "Una cadena que comienza con una o más palabras $P$, sigue con las palabras \"lo que\", y termina con una o más palabras $F$. Cada palabra está formada sólo con letras minúsculas y cada dos palabras están separadas por exactamente un espacio. La frase completa tiene a lo mucho 1000 caracteres incluyendo espacios.\n",
        "\n",
        "**Salida**\n",
        "Una cadena que comienza con $F$, sigue con las palabras \"lo que\", y termina con $P$.\n",
        "\n",
        "Ejemplo\n",
        "\n",
        "| **Entrada**              | **Salida**               |\n",
        "|--------------------------|--------------------------|\n",
        "| digo lo que quiero decir | quiero decir lo que digo |\n",
        "\n",
        "\n",
        "\n"
      ],
      "metadata": {
        "id": "iqEP4IUkqcRN"
      }
    },
    {
      "cell_type": "code",
      "source": [
        "def no_es_lo_mismo(entrada):\n",
        "    despues = entrada[0:entrada.find(\"lo que\")-1]\n",
        "    antes = entrada[entrada.find(\"lo que\")+7:]\n",
        "\n",
        "    return(f\"{antes} lo que {despues}\")\n",
        "\n",
        "entrada = input()\n",
        "no_es_lo_mismo(entrada)"
      ],
      "metadata": {
        "colab": {
          "base_uri": "https://localhost:8080/",
          "height": 53
        },
        "id": "Vy7vDsDVoytV",
        "outputId": "de79d7f0-b1ee-40b8-8c63-aa331b0c626c"
      },
      "execution_count": null,
      "outputs": [
        {
          "name": "stdout",
          "output_type": "stream",
          "text": [
            "digo lo que quiero decir\n"
          ]
        },
        {
          "output_type": "execute_result",
          "data": {
            "text/plain": [
              "'quiero decir lo que digo'"
            ],
            "application/vnd.google.colaboratory.intrinsic+json": {
              "type": "string"
            }
          },
          "metadata": {},
          "execution_count": 38
        }
      ]
    },
    {
      "cell_type": "code",
      "source": [
        "class TestC(unittest.TestCase):\n",
        "    def test_1(self):\n",
        "        self.assertEqual(no_es_lo_mismo(\"digo lo que quiero decir\"), \"quiero decir lo que digo\")\n",
        "\n",
        "suite = unittest.TestLoader().loadTestsFromTestCase(TestC)\n",
        "runner = unittest.TextTestRunner(verbosity=2)\n",
        "result = runner.run(suite)"
      ],
      "metadata": {
        "colab": {
          "base_uri": "https://localhost:8080/"
        },
        "id": "raqMV-efsYjt",
        "outputId": "8f4a41d4-e7e0-492b-c6e6-dd4a5d7880f9"
      },
      "execution_count": null,
      "outputs": [
        {
          "output_type": "stream",
          "name": "stderr",
          "text": [
            "test_1 (__main__.TestC.test_1) ... ok\n",
            "\n",
            "----------------------------------------------------------------------\n",
            "Ran 1 test in 0.002s\n",
            "\n",
            "OK\n"
          ]
        }
      ]
    },
    {
      "cell_type": "markdown",
      "source": [
        "## D. Patos\n",
        "\n",
        "El señor Dengklek vive en el Reino de los Patos, donde humanos y patos viven juntos en paz y harmonía. Los patos estan numerados por números enteros positivos distintos de $A$ a $B$, inclusive, donde $A \\leq B$.\n",
        "\n",
        "La última noche, el señor Dengklek no podía dormir, así que salió de su casa a intentar contar todos los patos en el reino. Cada vez que veía a un nuevo pato, decía su número en voz alta. El señor Dengklek sólo decía sus números (números que van de $A$ a $B$). Nunca dijo el mismo número dos veces ni tampoco se tomó la molestia de decirlos en orden.\n",
        "\n",
        "Es posible que el señor Dengklek no haya visto a algunos patos. Obviamente, el número de patos que no vió depende de los valores de $A$ y $B$. Los valores $A$ y $B$ son desconocidos para tí. Calcula el menor número de patos que el señor Dengklek se pudo haber perdido.\n",
        "\n",
        "**Entrada**\n",
        "Un entero positivo $1 \\leq N \\leq 50$ con la cantidad de patos que el señor Dengklek vio. En la siguiente línea, habrá $N$ números, representando los números de los patos que fueron vistos. Cada número de pato es un entero entre el 1 y el 100, inclusive.\n",
        "\n",
        "Todos los números en la entrada son distintos.\n",
        "\n",
        "**Salida**\n",
        "Un entero representando el menor número de patos que el señor Denglklek se pudo haber perdido.\n",
        "\n",
        "| **Entrada** | **Salida** |\n",
        "|-------------|------------|\n",
        "| 3           | 1          |\n",
        "| 5 3 2       |            |\n"
      ],
      "metadata": {
        "id": "VIu2qq_Lkezv"
      }
    },
    {
      "cell_type": "code",
      "source": [
        "def patos(_lis) -> int:\n",
        "    lis = [int(x) for x in _lis.split()]\n",
        "    patos = 0\n",
        "\n",
        "    all = list(range(min(lis), max(lis)+1))\n",
        "\n",
        "    for _ in all:\n",
        "        if _ not in lis: patos += 1\n",
        "\n",
        "    return patos\n",
        "\n",
        "n = input()\n",
        "lista = input()\n",
        "\n",
        "print(patos(lista))"
      ],
      "metadata": {
        "colab": {
          "base_uri": "https://localhost:8080/"
        },
        "id": "o1qNV65tlNPU",
        "outputId": "cc127987-7af5-40f7-fa1e-d510d94ff13f"
      },
      "execution_count": null,
      "outputs": [
        {
          "output_type": "execute_result",
          "data": {
            "text/plain": [
              "1"
            ]
          },
          "metadata": {},
          "execution_count": 31
        }
      ]
    },
    {
      "cell_type": "code",
      "source": [
        "class TestD(unittest.TestCase):\n",
        "    def test_1(self):\n",
        "        self.assertEqual(patos('5 3 2'), 1)\n",
        "\n",
        "suite = unittest.TestLoader().loadTestsFromTestCase(TestD)\n",
        "runner = unittest.TextTestRunner(verbosity=2)\n",
        "result = runner.run(suite)"
      ],
      "metadata": {
        "colab": {
          "base_uri": "https://localhost:8080/"
        },
        "id": "myvOx4-emlXU",
        "outputId": "65dc3be2-3598-4a6f-8e68-1e8bbaee548a"
      },
      "execution_count": null,
      "outputs": [
        {
          "output_type": "stream",
          "name": "stderr",
          "text": [
            "test_1 (__main__.TestD.test_1) ... ok\n",
            "\n",
            "----------------------------------------------------------------------\n",
            "Ran 1 test in 0.003s\n",
            "\n",
            "OK\n"
          ]
        }
      ]
    },
    {
      "cell_type": "markdown",
      "source": [
        "##E. Imprimiendo enteros por paridad\n",
        "\n",
        "Escribe un programa que lea un arreglo de $N$ enteros y un entero. Si $P=0$, tu programa deberá imprimir los valores del arreglo que sean pares; si $P=1$, tu programa deberá imprimir los valores del arreglo que sean impares. El orden de aparición debe respetarse.\n",
        "\n",
        "**Entrada**\n",
        "Un entero $N$ seguido de los $N$ enteros del arreglo y posteriormente un entero $P$. Puedes suponer que $ 1 \\leq N \\leq 20$, que $0 \\leq P \\leq 1$ y que los elementos del arreglo están entre $0$ y $100$.\n",
        "\n",
        "**Salida**\n",
        "Una secuencia de enteros separados por espacios que correspondan con lo solicitado en la descripción.\n",
        "\n",
        "**Ejemplo**\n",
        "\n",
        "| **Entrada**      | **Salida** |\n",
        "|------------------|------------|\n",
        "| 5                | 2 6        |\n",
        "| 2 5 9 6 1        |            |\n",
        "| 0                |            |\n",
        "|                  |            |\n",
        "| 5                | 5 9 1      |\n",
        "| 2 5 9 6 1        |            |\n",
        "| 1                |            |\n",
        "\n",
        "\n"
      ],
      "metadata": {
        "id": "mqJodoVsh6OE"
      }
    },
    {
      "cell_type": "code",
      "source": [
        "def imprimir_paridad(_lis:str, _opc:str) -> str:\n",
        "    lis = [int(x) for x in _lis.split()]\n",
        "    opc = int(_opc)\n",
        "    res = []\n",
        "\n",
        "    for _ in lis:\n",
        "        if _%2 == opc:\n",
        "            res.append(_)\n",
        "\n",
        "    return \" \".join(str(x) for x in res)\n",
        "\n",
        "\n",
        "tam = input()\n",
        "lis = input()\n",
        "opc = input()\n",
        "\n",
        "print(imprimir_paridad(lis, opc))"
      ],
      "metadata": {
        "colab": {
          "base_uri": "https://localhost:8080/"
        },
        "id": "QXBGRzp_tM8n",
        "outputId": "cd714614-0328-4440-bb46-3c5cb9a5b7eb"
      },
      "execution_count": null,
      "outputs": [
        {
          "output_type": "stream",
          "name": "stdout",
          "text": [
            "5\n",
            "2 5 9 6 1\n",
            "0\n",
            "2 6\n"
          ]
        }
      ]
    },
    {
      "cell_type": "code",
      "source": [
        "class TestE(unittest.TestCase):\n",
        "    def test_1(self):\n",
        "        self.assertEqual(imprimir_paridad('2 5 9 6 1', '0'), '2 6')\n",
        "\n",
        "    def test_2(self):\n",
        "        self.assertEqual(imprimir_paridad('2 5 9 6 1', '1'), '5 9 1')\n",
        "\n",
        "suite = unittest.TestLoader().loadTestsFromTestCase(TestE)\n",
        "runner = unittest.TextTestRunner(verbosity=2)\n",
        "result = runner.run(suite)"
      ],
      "metadata": {
        "colab": {
          "base_uri": "https://localhost:8080/"
        },
        "id": "KkXUqJWzjpIm",
        "outputId": "9b522551-5637-40c1-ed67-dd60afa2bd8f"
      },
      "execution_count": null,
      "outputs": [
        {
          "output_type": "stream",
          "name": "stderr",
          "text": [
            "test_1 (__main__.TestE.test_1) ... ok\n",
            "test_2 (__main__.TestE.test_2) ... ok\n",
            "\n",
            "----------------------------------------------------------------------\n",
            "Ran 2 tests in 0.003s\n",
            "\n",
            "OK\n"
          ]
        }
      ]
    },
    {
      "cell_type": "markdown",
      "source": [
        "## F. Modificando secuencias a lo loco\n",
        "\n",
        "Dada una secuencia de $N$ enteros donde el entero $5$ aparece al menos dos veces, realiza lo siguiente:\n",
        "\n",
        "* Sea $p_1$ la posición de la primera ocurrencia del entero $5$ en la secuencia, invierte la subsecuencia anterior a $p_1$.\n",
        "* Sea $p_2$ la posición de la segunda ocurrencia del entero $5$ en la secuencia, invierte la subsecuencia posterior a $p_2$.\n",
        "* Busca la primera ocurrencia del entero $7$ en la subsecuencia posterior a $p_1$ pero anterior a $p_2$. Si existe, reemplázala por el entero $0$. En caso contrario, ordena la subsecuencia mencionada.\n",
        "\n",
        "Escribe un programa que imprima el estado final de la secuencia.\n",
        "\n",
        "**Entrada**\n",
        "Un entero $N$ seguido de los $N$ enteros de la secuencia. Puedes suponer que $2 \\leq N \\leq 100$, que los enteros de la secuencia están en el rango de $0$ a $100$ y que el entero $5$ aparece al menos dos veces.\n",
        "\n",
        "**Salida**\n",
        "Los $N$ enteros de la secuencia después de realizar las operaciones.\n",
        "\n",
        "**Ejemplo**\n",
        "\n",
        "| **Entrada**           | **Salida**            |\n",
        "|-----------------------|-----------------------|\n",
        "| 11                    | 4 2 1 5 8 0 7 5 9 7 5 |\n",
        "| 1 2 4 5 8 7 7 5 5 7 9 |                       |\n",
        "|                       |                       |\n",
        "| 11                    | 4 2 1 5 6 8 9 5 9 7 5 |\n",
        "| 1 2 4 5 8 9 6 5 5 7 9 |                       |\n"
      ],
      "metadata": {
        "id": "384xaQlCnl7-"
      }
    },
    {
      "cell_type": "code",
      "source": [
        "def modificando_secuencias(_lis:str) -> str:\n",
        "    lista = [int(x) for x in _lis.split()]\n",
        "    p1 = lista[:lista.index(5)][::-1]\n",
        "\n",
        "    p1_5 = lista[lista.index(5)+1:]\n",
        "    p2 = p1_5[p1_5.index(5)+1:][::-1]\n",
        "\n",
        "    p1_5 =  p1_5[:p1_5.index(5)]\n",
        "    try: p1_5[p1_5.index(7)] = 0\n",
        "    except: p1_5.sort()\n",
        "\n",
        "    return f'{\" \".join(str(x) for x in p1)} 5 {\" \".join(str(x) for x in p1_5)} 5 {\" \".join(str(x) for x in p2)}'\n",
        "\n",
        "tam = input()\n",
        "lista = input()\n",
        "\n",
        "print(modificando_secuencias(lista))"
      ],
      "metadata": {
        "colab": {
          "base_uri": "https://localhost:8080/",
          "height": 70
        },
        "id": "sA_vmpTDpA7X",
        "outputId": "afc7f36f-3c5f-474c-b788-06c318baa550"
      },
      "execution_count": null,
      "outputs": [
        {
          "name": "stdout",
          "output_type": "stream",
          "text": [
            "11\n",
            "1 2 4 5 8 7 7 5 5 7 9\n"
          ]
        },
        {
          "output_type": "execute_result",
          "data": {
            "text/plain": [
              "'4 2 1 5 8 0 7 5 9 7 5'"
            ],
            "application/vnd.google.colaboratory.intrinsic+json": {
              "type": "string"
            }
          },
          "metadata": {},
          "execution_count": 52
        }
      ]
    },
    {
      "cell_type": "code",
      "source": [
        "class TestF(unittest.TestCase):\n",
        "    def test_1(self):\n",
        "        self.assertEqual(modificando_secuencias('1 2 4 5 8 7 7 5 5 7 9'), '4 2 1 5 8 0 7 5 9 7 5')\n",
        "\n",
        "    def test_2(self):\n",
        "        self.assertEqual(modificando_secuencias('1 2 4 5 8 9 6 5 5 7 9'), '4 2 1 5 6 8 9 5 9 7 5')\n",
        "\n",
        "suite = unittest.TestLoader().loadTestsFromTestCase(TestF)\n",
        "runner = unittest.TextTestRunner(verbosity=2)\n",
        "result = runner.run(suite)"
      ],
      "metadata": {
        "colab": {
          "base_uri": "https://localhost:8080/"
        },
        "id": "LAN53Rix1HVr",
        "outputId": "d25f27c6-c1b3-48ce-bbc3-219c4ec8f954"
      },
      "execution_count": null,
      "outputs": [
        {
          "output_type": "stream",
          "name": "stderr",
          "text": [
            "test_1 (__main__.TestF.test_1) ... ok\n",
            "test_2 (__main__.TestF.test_2) ... ok\n",
            "\n",
            "----------------------------------------------------------------------\n",
            "Ran 2 tests in 0.004s\n",
            "\n",
            "OK\n"
          ]
        }
      ]
    }
  ]
}