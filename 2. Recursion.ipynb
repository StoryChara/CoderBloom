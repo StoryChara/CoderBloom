{
  "nbformat": 4,
  "nbformat_minor": 0,
  "metadata": {
    "colab": {
      "provenance": [],
      "authorship_tag": "ABX9TyMKOCe1SmIDcKobBld9ARdj",
      "include_colab_link": true
    },
    "kernelspec": {
      "name": "python3",
      "display_name": "Python 3"
    },
    "language_info": {
      "name": "python"
    }
  },
  "cells": [
    {
      "cell_type": "markdown",
      "metadata": {
        "id": "view-in-github",
        "colab_type": "text"
      },
      "source": [
        "<a href=\"https://colab.research.google.com/github/StoryChara/CoderBloom_CPCII/blob/main/2.%20Recursion.ipynb\" target=\"_parent\"><img src=\"https://colab.research.google.com/assets/colab-badge.svg\" alt=\"Open In Colab\"/></a>"
      ]
    },
    {
      "cell_type": "code",
      "source": [
        "import unittest"
      ],
      "metadata": {
        "id": "5CXVZmJuY0UV"
      },
      "execution_count": null,
      "outputs": []
    },
    {
      "cell_type": "markdown",
      "source": [
        "# Recursion"
      ],
      "metadata": {
        "id": "fCEVV_ViY1Xd"
      }
    },
    {
      "cell_type": "markdown",
      "source": [
        "## Fibonacci\n",
        "\n",
        "$F_n = F_{n-1} + F_{n-2} \\quad \\text{para } n > 1$\n",
        "\n",
        "$F_n = 1 \\quad \\text{para } n = 1 $\n",
        "\n",
        "$F_n = 0 \\quad \\text{para } n = 0 $"
      ],
      "metadata": {
        "id": "6lasO6AXY9zs"
      }
    },
    {
      "cell_type": "code",
      "metadata": {
        "colab": {
          "base_uri": "https://localhost:8080/"
        },
        "id": "7ff76174",
        "outputId": "9f455fcb-3acb-4033-e718-6ce15acd6a70"
      },
      "source": [
        "def fibonacci(n):\n",
        "    if n <= 1: return n\n",
        "    return fibonacci(n-1) + fibonacci(n-2)\n",
        "\n",
        "print(f\"fibonacci({5}) es: {fibonacci(5)}\")"
      ],
      "execution_count": 42,
      "outputs": [
        {
          "output_type": "stream",
          "name": "stdout",
          "text": [
            "fibonacci(5) es: 5\n"
          ]
        }
      ]
    },
    {
      "cell_type": "markdown",
      "source": [
        "## Factorial\n",
        "\n",
        "$ n! = n \\times (n-1) \\times \\cdots \\times 1 $"
      ],
      "metadata": {
        "id": "vaay_dMTZOlG"
      }
    },
    {
      "cell_type": "code",
      "source": [
        "def factorial(n):\n",
        "    if n <= 0: return 1\n",
        "    return n * factorial(n-1)\n",
        "\n",
        "print(f\"factorial({5}) es: {factorial(5)}\")"
      ],
      "metadata": {
        "colab": {
          "base_uri": "https://localhost:8080/"
        },
        "id": "XVSoC80uZQll",
        "outputId": "8cd74afd-cb6a-49bd-e342-11e647340824"
      },
      "execution_count": 43,
      "outputs": [
        {
          "output_type": "stream",
          "name": "stdout",
          "text": [
            "factorial(5) es: 120\n"
          ]
        }
      ]
    },
    {
      "cell_type": "markdown",
      "source": [
        "## A. Calcular la suma de dígitos hasta obtener un solo dígito\n",
        "\n",
        "El programa recibe un número entero positivo y calcula la suma de sus dígitos de forma recursiva hasta que se obtenga un solo dígito. La función sumarDigitos utiliza recursión para descomponer el número y sumar sus dígitos repetidamente.\n",
        "\n",
        "**Entrada**\n",
        "Un único número entero positivo.\n",
        "\n",
        "**Salida**\n",
        "Un número entero, que es la suma de los dígitos del número original, reducida a un solo dígito.\n",
        "\n",
        "**Ejemplo**\n",
        "\n",
        "| **Entrada**      | **Salida** |\n",
        "|------------------|------------|\n",
        "| 9875             | 2          |\n"
      ],
      "metadata": {
        "id": "MRpNTTCMbgkm"
      }
    },
    {
      "cell_type": "code",
      "source": [
        "def suma_digitos(n):\n",
        "    suma = sum([int(x) for x in list(str(n))])\n",
        "\n",
        "    if suma >= 10: return suma_digitos(suma)\n",
        "    return suma\n",
        "\n",
        "num = int(input())\n",
        "print(suma_digitos(num))"
      ],
      "metadata": {
        "colab": {
          "base_uri": "https://localhost:8080/"
        },
        "id": "0XT1ne-3bxzd",
        "outputId": "c3552bac-9191-4445-a4de-ba33e64d82de"
      },
      "execution_count": null,
      "outputs": [
        {
          "output_type": "stream",
          "name": "stdout",
          "text": [
            "9875\n",
            "2\n"
          ]
        }
      ]
    },
    {
      "cell_type": "code",
      "source": [
        "class TestA(unittest.TestCase):\n",
        "    def test_1(self):\n",
        "        self.assertEqual(suma_digitos(9875), 2)\n",
        "\n",
        "suite = unittest.TestLoader().loadTestsFromTestCase(TestA)\n",
        "runner = unittest.TextTestRunner(verbosity=2)\n",
        "result = runner.run(suite)"
      ],
      "metadata": {
        "colab": {
          "base_uri": "https://localhost:8080/"
        },
        "id": "aNCzd1yHe1ht",
        "outputId": "27e834d4-aa2a-4679-802c-eed138f3bf30"
      },
      "execution_count": null,
      "outputs": [
        {
          "output_type": "stream",
          "name": "stderr",
          "text": [
            "test_1 (__main__.TestA.test_1) ... ok\n",
            "\n",
            "----------------------------------------------------------------------\n",
            "Ran 1 test in 0.003s\n",
            "\n",
            "OK\n"
          ]
        }
      ]
    },
    {
      "cell_type": "markdown",
      "source": [
        "## B. Reproducción de bichos\n",
        "\n",
        "Acabas de descubrir una nueva especie de bicho y estás estudiando su reproducción (la cual es asexual, es decir, no necesitan parejas para tener bebés). Al final de cada día ocurre lo siguiente:\n",
        "\n",
        "* Un bicho del tipo $A$ produce como bebés a un bicho de tipo $A$, tres bichos de tipo $B$ y un bicho de tipo $C$.\n",
        "* Un bicho del tipo $B$ produce como bebés a dos bichos de tipo $B$ y dos bichos de tipo $C$.\n",
        "* Un bicho del tipo $C$ produce como bebés a un bicho de tipo $A$ y cuatro bichos de tipo $C$.\n",
        "\n",
        "Los bebés maduran rápido y sus propios bebés nacerán al siguiente día de haber nacido ellos. Por si fuera poco, los bichos que ya tenías nunca morirán y seguirán teniendo bebés cada día. Si comienzas con $N$ bichos de tipo $A$, ¿cuántos bichos tendrás en total después de $D$ días?\n",
        "\n",
        "**Entrada**\n",
        "Dos enteros $N, D$. Puedes suponer que $N, D \\geq 0$.\n",
        "\n",
        "Salida\n",
        "Un entero que sea el número total de bichos tras $D$ días. Puedes suponer que el resultado cabe en un *int*.\n",
        "\n",
        "**Ejemplo**\n",
        "\n",
        "| **Entrada**      | **Salida** |\n",
        "|------------------|------------|\n",
        "| 1 0              | 1          |\n",
        "| 1 1              | 6          |\n"
      ],
      "metadata": {
        "id": "IVcav-2ZffTe"
      }
    },
    {
      "cell_type": "code",
      "source": [
        "def reproduccion(D, A, B, C):\n",
        "    if D == 0: return A+B+C\n",
        "    return reproduccion(D-1, A+(A*1)+(B*0)+(C*1), B+(A*3)+(B*2)+(C*0), C+(A*1)+(B*2)+(C*4))\n",
        "\n",
        "\n",
        "N, D = input().split()\n",
        "print(reproduccion(int(D), int(N), 0, 0))"
      ],
      "metadata": {
        "colab": {
          "base_uri": "https://localhost:8080/"
        },
        "id": "z8uGzQDyhHDV",
        "outputId": "72267b49-e9e8-4ca1-a2d1-11c2e38db6e2"
      },
      "execution_count": 39,
      "outputs": [
        {
          "output_type": "stream",
          "name": "stdout",
          "text": [
            "1 0\n",
            "1\n"
          ]
        }
      ]
    },
    {
      "cell_type": "code",
      "source": [
        "class TestB(unittest.TestCase):\n",
        "    def test_1(self):\n",
        "        self.assertEqual(reproduccion(0, 1, 0, 0), 1)\n",
        "\n",
        "    def test_2(self):\n",
        "        self.assertEqual(reproduccion(1, 1, 0, 0), 6)\n",
        "\n",
        "suite = unittest.TestLoader().loadTestsFromTestCase(TestB)\n",
        "runner = unittest.TextTestRunner(verbosity=2)\n",
        "result = runner.run(suite)"
      ],
      "metadata": {
        "colab": {
          "base_uri": "https://localhost:8080/"
        },
        "id": "g8RcS22hkNL9",
        "outputId": "8df31a2a-cce7-4fa6-e3dd-ed8f365a6e47"
      },
      "execution_count": 40,
      "outputs": [
        {
          "output_type": "stream",
          "name": "stderr",
          "text": [
            "test_1 (__main__.TestB.test_1) ... ok\n",
            "test_2 (__main__.TestB.test_2) ... ok\n",
            "\n",
            "----------------------------------------------------------------------\n",
            "Ran 2 tests in 0.005s\n",
            "\n",
            "OK\n"
          ]
        }
      ]
    },
    {
      "cell_type": "markdown",
      "source": [
        "## C. Multiplicando enteros usando operaciones más básicas\n",
        "\n",
        "Compraste una computadora muy antigua en una venta de garage para coleccionarla. El CPU de esta computadora tiene bastantes limitaciones: aunque puede sumar números arbitrarios, no puede multiplicar ni dividir números arbitrarios; sólo puede multiplicar por 2 y dividir entre 2 (todo con enteros). Por ejemplo, el CPU puede calcular $5 + 7$, $5 \\times 2$, $5 \\mathbin{/} 2$ pero no puede calcular $5 \\times 7$. Como eres todo un experto programando, diseñaste un algoritmo recursivo $\\textrm{producto}(a, b)$ que sirve para multiplicar $a \\times b$ y que sólo necesita las operaciones que sí están disponibles:\n",
        "\n",
        "* Si $a=0$ entonces $\\textrm{producto}(a, b) = 0$.\n",
        "* Si $a > 0$ y $a$ es par, entonces $\\textrm{producto}(a, b) = 2 \\times  \\textrm{producto} (a \\mathbin{/} 2, b)$.\n",
        "* Si $a > 0$ y  $a$ es impar, entonces $\\textrm{producto}(a, b) = 2 \\times \\textrm{producto}(a \\mathbin{/} 2, b) + b$.\n",
        "\n",
        "Escribe un programa que calcule cuántas operaciones aritméticas (sumas, multiplicaciones por 2, divisiones entre 2) necesitará el algoritmo anterior para calcular el producto de dos números. En el CPU en cuestión, la detección de la paridad de $a$ es gratuita y no debes contarla.\n",
        "\n",
        "**Entrada**\n",
        "Dos enteros $a,b$. Puedes suponer que $0 \\leq a, b \\leq 10^6$.\n",
        "\n",
        "**Salida**\n",
        "Un entero que sea la cantidad de operaciones aritméticas que se ejecutaron.\n",
        "\n",
        "Ejemplo\n",
        "\n",
        "| **Entrada**      | **Salida** |\n",
        "|------------------|------------|\n",
        "| 0 5              | 0          |\n",
        "| 5 0              | 8          |\n",
        "| 5 7              | 8          |\n",
        "| 1337 84          | 28         |\n"
      ],
      "metadata": {
        "id": "bHVG2ZoWijz3"
      }
    },
    {
      "cell_type": "code",
      "source": [],
      "metadata": {
        "id": "MGhcdJwZkMU2"
      },
      "execution_count": null,
      "outputs": []
    },
    {
      "cell_type": "code",
      "source": [],
      "metadata": {
        "id": "i_DtdujWkMu-"
      },
      "execution_count": null,
      "outputs": []
    },
    {
      "cell_type": "markdown",
      "source": [
        "## D. Recursión - OVI\n",
        "\n",
        "Se quiere que escribas un programa que sea capaz de calcular la siguiente fórmula recursiva:\n",
        "\n",
        "$ f(0) = 1 $\n",
        "\n",
        "$ f(1) = 1 $\n",
        "\n",
        "$ f(n) = f(n-1) + 2 * f(n-2) $\n",
        "\n",
        "**Entrada**\n",
        "Un número $n$, indicando que se quiere que calcules el n-ésimo número de la secuencia $0 \\leq n \\leq 20$.\n",
        "\n",
        "**Salida**\n",
        "Imprime el valor de $f(n)$\n",
        "\n",
        "**Ejemplos**\n",
        "\n",
        "| **Entrada**      | **Salida** |\n",
        "|------------------|------------|\n",
        "| 0                | 1          |\n",
        "| 1                | 1          |\n",
        "| 2                | 3          |\n",
        "| 6                | 43         |"
      ],
      "metadata": {
        "id": "UHatWd9mkXLm"
      }
    },
    {
      "cell_type": "code",
      "source": [],
      "metadata": {
        "id": "bNbW0ARxk5Kg"
      },
      "execution_count": null,
      "outputs": []
    },
    {
      "cell_type": "code",
      "source": [],
      "metadata": {
        "id": "gPYKfaDDk5e9"
      },
      "execution_count": null,
      "outputs": []
    },
    {
      "cell_type": "markdown",
      "source": [
        "## E. Calculadora de Potencia Recursiva\n",
        "\n",
        "Calcula la potencia de un número utilizando una función recursiva. Toma dos números como entrada: la base y el exponente. Luego, utiliza una función llamada potencia para calcular la potencia de la base elevada al exponente utilizando recursividad. Finalmente, imprime el resultado de la potencia.\n",
        "\n",
        "**Entrada**\n",
        "El programa espera dos valores enteros separados por espacios en la entrada estándar. El primer número es la base y el segundo número es el exponente.\n",
        "\n",
        "**Salida**\n",
        "El programa imprimirá un solo número entero, que es el resultado de elevar la base al exponente.\n",
        "\n",
        "**Ejemplo**\n",
        "\n",
        "| **Entrada**      | **Salida** |\n",
        "|------------------|------------|\n",
        "| 5 3              | 125        |\n",
        "| 2 4              | 16         |\n"
      ],
      "metadata": {
        "id": "LLYZGd5Mo4ie"
      }
    },
    {
      "cell_type": "code",
      "source": [],
      "metadata": {
        "id": "RZ9XsazlpEdG"
      },
      "execution_count": null,
      "outputs": []
    },
    {
      "cell_type": "code",
      "source": [],
      "metadata": {
        "id": "Fh7gYkAypExW"
      },
      "execution_count": null,
      "outputs": []
    },
    {
      "cell_type": "markdown",
      "source": [
        "## F. El ciclo de vida de las bacterias (fácil)\n",
        "\n",
        "Estás estudiando cierto tipo de bacteria y acabas de darte cuenta que su ciclo de vida es bastante predecible. Exactamente $1$ día después de nacer, la bacteria produce dos descendientes. Sin embargo, la bacteria no vuelve a producir ningún descendiente después, aunque tampoco muere.\n",
        "\n",
        "¿Cuántas bacterias vivas habrá después de $N$ días si comienzas tu experimento con una bacteria recién nacida?\n",
        "\n",
        "**Entrada**\n",
        "Un entero $N$. Puedes suponer que $0 \\leq N \\leq 20$.\n",
        "\n",
        "**Salida**\n",
        "Un entero que sea la cantidad de bacterias vivas que habrá después de $N$ días.\n",
        "\n",
        "**Ejemplo**\n",
        "\n",
        "| **Entrada**      | **Salida** |\n",
        "|------------------|------------|\n",
        "| 0                | 1          |\n",
        "| 5                | 63         |\n"
      ],
      "metadata": {
        "id": "99Jw403kpF0j"
      }
    },
    {
      "cell_type": "code",
      "source": [
        "def ciclo_bacterias(dias, bacterias):\n",
        "    if dias==0: return bacterias\n",
        "    return ciclo_bacterias(dias-1, bacterias*2+1)\n",
        "\n",
        "dias = int(input())\n",
        "print(ciclo_bacterias(dias, 1))"
      ],
      "metadata": {
        "colab": {
          "base_uri": "https://localhost:8080/"
        },
        "id": "TUhNOrKPphiO",
        "outputId": "0874c3e6-95c8-45c4-8f3c-271389a7d744"
      },
      "execution_count": 46,
      "outputs": [
        {
          "output_type": "stream",
          "name": "stdout",
          "text": [
            "5\n",
            "63\n"
          ]
        }
      ]
    },
    {
      "cell_type": "code",
      "source": [
        "class TestF(unittest.TestCase):\n",
        "    def test_1(self):\n",
        "        self.assertEqual(ciclo_bacterias(0, 1), 1)\n",
        "\n",
        "    def test_2(self):\n",
        "        self.assertEqual(ciclo_bacterias(5, 1), 63)\n",
        "\n",
        "suite = unittest.TestLoader().loadTestsFromTestCase(TestF)\n",
        "runner = unittest.TextTestRunner(verbosity=2)\n",
        "result = runner.run(suite)"
      ],
      "metadata": {
        "colab": {
          "base_uri": "https://localhost:8080/"
        },
        "id": "_CuDDH4vph0G",
        "outputId": "94947c92-81a2-4929-aa00-a9eca60aaceb"
      },
      "execution_count": 47,
      "outputs": [
        {
          "output_type": "stream",
          "name": "stderr",
          "text": [
            "test_1 (__main__.TestF.test_1) ... ok\n",
            "test_2 (__main__.TestF.test_2) ... ok\n",
            "\n",
            "----------------------------------------------------------------------\n",
            "Ran 2 tests in 0.004s\n",
            "\n",
            "OK\n"
          ]
        }
      ]
    }
  ]
}