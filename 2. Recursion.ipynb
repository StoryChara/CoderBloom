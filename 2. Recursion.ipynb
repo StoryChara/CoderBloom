{
  "nbformat": 4,
  "nbformat_minor": 0,
  "metadata": {
    "colab": {
      "provenance": [],
      "authorship_tag": "ABX9TyOE8zEMseT2nt1sihNDKjRP",
      "include_colab_link": true
    },
    "kernelspec": {
      "name": "python3",
      "display_name": "Python 3"
    },
    "language_info": {
      "name": "python"
    }
  },
  "cells": [
    {
      "cell_type": "markdown",
      "metadata": {
        "id": "view-in-github",
        "colab_type": "text"
      },
      "source": [
        "<a href=\"https://colab.research.google.com/github/StoryChara/CoderBloom_CPCII/blob/main/2.%20Recursion.ipynb\" target=\"_parent\"><img src=\"https://colab.research.google.com/assets/colab-badge.svg\" alt=\"Open In Colab\"/></a>"
      ]
    },
    {
      "cell_type": "code",
      "source": [
        "import unittest"
      ],
      "metadata": {
        "id": "5CXVZmJuY0UV"
      },
      "execution_count": null,
      "outputs": []
    },
    {
      "cell_type": "markdown",
      "source": [
        "# Recursion\n",
        "\n",
        "![image.png](data:image/png;base64,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)"
      ],
      "metadata": {
        "id": "fCEVV_ViY1Xd"
      }
    },
    {
      "cell_type": "markdown",
      "source": [
        "## Fibonacci\n",
        "\n",
        "$F_n = F_{n-1} + F_{n-2} \\quad \\text{para } n > 1$\n",
        "\n",
        "$F_n = 1 \\quad \\text{para } n = 1 $\n",
        "\n",
        "$F_n = 0 \\quad \\text{para } n = 0 $"
      ],
      "metadata": {
        "id": "6lasO6AXY9zs"
      }
    },
    {
      "cell_type": "code",
      "metadata": {
        "colab": {
          "base_uri": "https://localhost:8080/"
        },
        "id": "7ff76174",
        "outputId": "9f455fcb-3acb-4033-e718-6ce15acd6a70"
      },
      "source": [
        "def fibonacci(n):\n",
        "    if n <= 1: return n\n",
        "    return fibonacci(n-1) + fibonacci(n-2)\n",
        "\n",
        "print(f\"fibonacci({5}) es: {fibonacci(5)}\")"
      ],
      "execution_count": 42,
      "outputs": [
        {
          "output_type": "stream",
          "name": "stdout",
          "text": [
            "fibonacci(5) es: 5\n"
          ]
        }
      ]
    },
    {
      "cell_type": "markdown",
      "source": [
        "## Factorial\n",
        "\n",
        "$ n! = n \\times (n-1) \\times \\cdots \\times 1 $"
      ],
      "metadata": {
        "id": "vaay_dMTZOlG"
      }
    },
    {
      "cell_type": "code",
      "source": [
        "def factorial(n):\n",
        "    if n <= 0: return 1\n",
        "    return n * factorial(n-1)\n",
        "\n",
        "print(f\"factorial({5}) es: {factorial(5)}\")"
      ],
      "metadata": {
        "colab": {
          "base_uri": "https://localhost:8080/"
        },
        "id": "XVSoC80uZQll",
        "outputId": "8cd74afd-cb6a-49bd-e342-11e647340824"
      },
      "execution_count": 43,
      "outputs": [
        {
          "output_type": "stream",
          "name": "stdout",
          "text": [
            "factorial(5) es: 120\n"
          ]
        }
      ]
    },
    {
      "cell_type": "markdown",
      "source": [
        "## A. Calcular la suma de dígitos hasta obtener un solo dígito\n",
        "\n",
        "El programa recibe un número entero positivo y calcula la suma de sus dígitos de forma recursiva hasta que se obtenga un solo dígito. La función sumarDigitos utiliza recursión para descomponer el número y sumar sus dígitos repetidamente.\n",
        "\n",
        "**Entrada**\n",
        "Un único número entero positivo.\n",
        "\n",
        "**Salida**\n",
        "Un número entero, que es la suma de los dígitos del número original, reducida a un solo dígito.\n",
        "\n",
        "**Ejemplo**\n",
        "\n",
        "| **Entrada**      | **Salida** |\n",
        "|------------------|------------|\n",
        "| 9875             | 2          |\n"
      ],
      "metadata": {
        "id": "MRpNTTCMbgkm"
      }
    },
    {
      "cell_type": "code",
      "source": [
        "def suma_digitos(n):\n",
        "    suma = sum([int(x) for x in list(str(n))])\n",
        "\n",
        "    if suma >= 10: return suma_digitos(suma)\n",
        "    return suma\n",
        "\n",
        "num = int(input())\n",
        "print(suma_digitos(num))"
      ],
      "metadata": {
        "colab": {
          "base_uri": "https://localhost:8080/"
        },
        "id": "0XT1ne-3bxzd",
        "outputId": "c3552bac-9191-4445-a4de-ba33e64d82de"
      },
      "execution_count": null,
      "outputs": [
        {
          "output_type": "stream",
          "name": "stdout",
          "text": [
            "9875\n",
            "2\n"
          ]
        }
      ]
    },
    {
      "cell_type": "code",
      "source": [
        "class TestA(unittest.TestCase):\n",
        "    def test_1(self):\n",
        "        self.assertEqual(suma_digitos(9875), 2)\n",
        "\n",
        "suite = unittest.TestLoader().loadTestsFromTestCase(TestA)\n",
        "runner = unittest.TextTestRunner(verbosity=2)\n",
        "result = runner.run(suite)"
      ],
      "metadata": {
        "colab": {
          "base_uri": "https://localhost:8080/"
        },
        "id": "aNCzd1yHe1ht",
        "outputId": "27e834d4-aa2a-4679-802c-eed138f3bf30"
      },
      "execution_count": null,
      "outputs": [
        {
          "output_type": "stream",
          "name": "stderr",
          "text": [
            "test_1 (__main__.TestA.test_1) ... ok\n",
            "\n",
            "----------------------------------------------------------------------\n",
            "Ran 1 test in 0.003s\n",
            "\n",
            "OK\n"
          ]
        }
      ]
    },
    {
      "cell_type": "markdown",
      "source": [
        "## B. Reproducción de bichos\n",
        "\n",
        "Acabas de descubrir una nueva especie de bicho y estás estudiando su reproducción (la cual es asexual, es decir, no necesitan parejas para tener bebés). Al final de cada día ocurre lo siguiente:\n",
        "\n",
        "* Un bicho del tipo $A$ produce como bebés a un bicho de tipo $A$, tres bichos de tipo $B$ y un bicho de tipo $C$.\n",
        "* Un bicho del tipo $B$ produce como bebés a dos bichos de tipo $B$ y dos bichos de tipo $C$.\n",
        "* Un bicho del tipo $C$ produce como bebés a un bicho de tipo $A$ y cuatro bichos de tipo $C$.\n",
        "\n",
        "Los bebés maduran rápido y sus propios bebés nacerán al siguiente día de haber nacido ellos. Por si fuera poco, los bichos que ya tenías nunca morirán y seguirán teniendo bebés cada día. Si comienzas con $N$ bichos de tipo $A$, ¿cuántos bichos tendrás en total después de $D$ días?\n",
        "\n",
        "**Entrada**\n",
        "Dos enteros $N, D$. Puedes suponer que $N, D \\geq 0$.\n",
        "\n",
        "Salida\n",
        "Un entero que sea el número total de bichos tras $D$ días. Puedes suponer que el resultado cabe en un *int*.\n",
        "\n",
        "**Ejemplo**\n",
        "\n",
        "| **Entrada**      | **Salida** |\n",
        "|------------------|------------|\n",
        "| 1 0              | 1          |\n",
        "| 1 1              | 6          |\n"
      ],
      "metadata": {
        "id": "IVcav-2ZffTe"
      }
    },
    {
      "cell_type": "code",
      "source": [
        "def reproduccion(D, A, B, C):\n",
        "    if D == 0: return A+B+C\n",
        "    return reproduccion(D-1, A+(A*1)+(B*0)+(C*1), B+(A*3)+(B*2)+(C*0), C+(A*1)+(B*2)+(C*4))\n",
        "\n",
        "\n",
        "N, D = input().split()\n",
        "print(reproduccion(int(D), int(N), 0, 0))"
      ],
      "metadata": {
        "colab": {
          "base_uri": "https://localhost:8080/"
        },
        "id": "z8uGzQDyhHDV",
        "outputId": "72267b49-e9e8-4ca1-a2d1-11c2e38db6e2"
      },
      "execution_count": 39,
      "outputs": [
        {
          "output_type": "stream",
          "name": "stdout",
          "text": [
            "1 0\n",
            "1\n"
          ]
        }
      ]
    },
    {
      "cell_type": "code",
      "source": [
        "class TestB(unittest.TestCase):\n",
        "    def test_1(self):\n",
        "        self.assertEqual(reproduccion(0, 1, 0, 0), 1)\n",
        "\n",
        "    def test_2(self):\n",
        "        self.assertEqual(reproduccion(1, 1, 0, 0), 6)\n",
        "\n",
        "suite = unittest.TestLoader().loadTestsFromTestCase(TestB)\n",
        "runner = unittest.TextTestRunner(verbosity=2)\n",
        "result = runner.run(suite)"
      ],
      "metadata": {
        "colab": {
          "base_uri": "https://localhost:8080/"
        },
        "id": "g8RcS22hkNL9",
        "outputId": "8df31a2a-cce7-4fa6-e3dd-ed8f365a6e47"
      },
      "execution_count": 40,
      "outputs": [
        {
          "output_type": "stream",
          "name": "stderr",
          "text": [
            "test_1 (__main__.TestB.test_1) ... ok\n",
            "test_2 (__main__.TestB.test_2) ... ok\n",
            "\n",
            "----------------------------------------------------------------------\n",
            "Ran 2 tests in 0.005s\n",
            "\n",
            "OK\n"
          ]
        }
      ]
    },
    {
      "cell_type": "markdown",
      "source": [
        "## C. Multiplicando enteros usando operaciones más básicas\n",
        "\n",
        "Compraste una computadora muy antigua en una venta de garage para coleccionarla. El CPU de esta computadora tiene bastantes limitaciones: aunque puede sumar números arbitrarios, no puede multiplicar ni dividir números arbitrarios; sólo puede multiplicar por 2 y dividir entre 2 (todo con enteros). Por ejemplo, el CPU puede calcular $5 + 7$, $5 \\times 2$, $5 \\mathbin{/} 2$ pero no puede calcular $5 \\times 7$. Como eres todo un experto programando, diseñaste un algoritmo recursivo $\\textrm{producto}(a, b)$ que sirve para multiplicar $a \\times b$ y que sólo necesita las operaciones que sí están disponibles:\n",
        "\n",
        "* Si $a=0$ entonces $\\textrm{producto}(a, b) = 0$.\n",
        "* Si $a > 0$ y $a$ es par, entonces $\\textrm{producto}(a, b) = 2 \\times  \\textrm{producto} (a \\mathbin{/} 2, b)$.\n",
        "* Si $a > 0$ y  $a$ es impar, entonces $\\textrm{producto}(a, b) = 2 \\times \\textrm{producto}(a \\mathbin{/} 2, b) + b$.\n",
        "\n",
        "Escribe un programa que calcule cuántas operaciones aritméticas (sumas, multiplicaciones por 2, divisiones entre 2) necesitará el algoritmo anterior para calcular el producto de dos números. En el CPU en cuestión, la detección de la paridad de $a$ es gratuita y no debes contarla.\n",
        "\n",
        "**Entrada**\n",
        "Dos enteros $a,b$. Puedes suponer que $0 \\leq a, b \\leq 10^6$.\n",
        "\n",
        "**Salida**\n",
        "Un entero que sea la cantidad de operaciones aritméticas que se ejecutaron.\n",
        "\n",
        "Ejemplo\n",
        "\n",
        "| **Entrada**      | **Salida** |\n",
        "|------------------|------------|\n",
        "| 0 5              | 0          |\n",
        "| 5 0              | 8          |\n",
        "| 5 7              | 8          |\n",
        "| 1337 84          | 28         |\n"
      ],
      "metadata": {
        "id": "bHVG2ZoWijz3"
      }
    },
    {
      "cell_type": "code",
      "source": [
        "def producto(a, b):\n",
        "    if a==0: return 0\n",
        "    if a%2==0: return producto(a/2,b) + 2\n",
        "    return producto(a//2, b) + 3\n",
        "\n",
        "a, b = input().split()\n",
        "print(producto(int(a), int(b)))"
      ],
      "metadata": {
        "colab": {
          "base_uri": "https://localhost:8080/"
        },
        "id": "MGhcdJwZkMU2",
        "outputId": "963f536e-8275-44fa-d383-3553d23cea2b"
      },
      "execution_count": 62,
      "outputs": [
        {
          "output_type": "stream",
          "name": "stdout",
          "text": [
            "1337 84\n",
            "28\n"
          ]
        }
      ]
    },
    {
      "cell_type": "code",
      "source": [
        "class TestC(unittest.TestCase):\n",
        "    def test_1(self):\n",
        "        self.assertEqual(producto(0, 5), 0)\n",
        "\n",
        "    def test_2(self):\n",
        "        self.assertEqual(producto(5, 0), 8)\n",
        "\n",
        "    def test_3(self):\n",
        "        self.assertEqual(producto(5, 7), 8)\n",
        "\n",
        "    def test_4(self):\n",
        "        self.assertEqual(producto(1337, 84), 28)\n",
        "\n",
        "suite = unittest.TestLoader().loadTestsFromTestCase(TestC)\n",
        "runner = unittest.TextTestRunner(verbosity=2)\n",
        "result = runner.run(suite)"
      ],
      "metadata": {
        "colab": {
          "base_uri": "https://localhost:8080/"
        },
        "id": "i_DtdujWkMu-",
        "outputId": "f6435333-c2e0-4b2b-ad4f-7f7f774ab6c6"
      },
      "execution_count": 63,
      "outputs": [
        {
          "output_type": "stream",
          "name": "stderr",
          "text": [
            "test_1 (__main__.TestC.test_1) ... ok\n",
            "test_2 (__main__.TestC.test_2) ... ok\n",
            "test_3 (__main__.TestC.test_3) ... ok\n",
            "test_4 (__main__.TestC.test_4) ... ok\n",
            "\n",
            "----------------------------------------------------------------------\n",
            "Ran 4 tests in 0.013s\n",
            "\n",
            "OK\n"
          ]
        }
      ]
    },
    {
      "cell_type": "markdown",
      "source": [
        "## D. Recursión - OVI\n",
        "\n",
        "Se quiere que escribas un programa que sea capaz de calcular la siguiente fórmula recursiva:\n",
        "\n",
        "$ f(0) = 1 $\n",
        "\n",
        "$ f(1) = 1 $\n",
        "\n",
        "$ f(n) = f(n-1) + 2 * f(n-2) $\n",
        "\n",
        "**Entrada**\n",
        "Un número $n$, indicando que se quiere que calcules el n-ésimo número de la secuencia $0 \\leq n \\leq 20$.\n",
        "\n",
        "**Salida**\n",
        "Imprime el valor de $f(n)$\n",
        "\n",
        "**Ejemplos**\n",
        "\n",
        "| **Entrada**      | **Salida** |\n",
        "|------------------|------------|\n",
        "| 0                | 1          |\n",
        "| 1                | 1          |\n",
        "| 2                | 3          |\n",
        "| 6                | 43         |"
      ],
      "metadata": {
        "id": "UHatWd9mkXLm"
      }
    },
    {
      "cell_type": "code",
      "source": [
        "def OVI(n):\n",
        "    if n <= 1: return 1\n",
        "    return OVI(n-1) + 2*OVI(n-2)\n",
        "\n",
        "n = int(input())\n",
        "print(OVI(n))"
      ],
      "metadata": {
        "colab": {
          "base_uri": "https://localhost:8080/"
        },
        "id": "bNbW0ARxk5Kg",
        "outputId": "06ce8a01-7c03-4c69-bc1d-b64732740db2"
      },
      "execution_count": 56,
      "outputs": [
        {
          "output_type": "stream",
          "name": "stdout",
          "text": [
            "0\n",
            "1\n"
          ]
        }
      ]
    },
    {
      "cell_type": "code",
      "source": [
        "class TestD(unittest.TestCase):\n",
        "    def test_1(self):\n",
        "        self.assertEqual(OVI(0), 1)\n",
        "\n",
        "    def test_2(self):\n",
        "        self.assertEqual(OVI(1), 1)\n",
        "\n",
        "    def test_3(self):\n",
        "        self.assertEqual(OVI(2), 3)\n",
        "\n",
        "    def test_4(self):\n",
        "        self.assertEqual(OVI(6), 43)\n",
        "\n",
        "suite = unittest.TestLoader().loadTestsFromTestCase(TestD)\n",
        "runner = unittest.TextTestRunner(verbosity=2)\n",
        "result = runner.run(suite)"
      ],
      "metadata": {
        "colab": {
          "base_uri": "https://localhost:8080/"
        },
        "id": "gPYKfaDDk5e9",
        "outputId": "af95d7a6-74d8-42e8-d323-8307e9a25c9e"
      },
      "execution_count": 57,
      "outputs": [
        {
          "output_type": "stream",
          "name": "stderr",
          "text": [
            "test_1 (__main__.TestD.test_1) ... ok\n",
            "test_2 (__main__.TestD.test_2) ... ok\n",
            "test_3 (__main__.TestD.test_3) ... ok\n",
            "test_4 (__main__.TestD.test_4) ... ok\n",
            "\n",
            "----------------------------------------------------------------------\n",
            "Ran 4 tests in 0.012s\n",
            "\n",
            "OK\n"
          ]
        }
      ]
    },
    {
      "cell_type": "markdown",
      "source": [
        "## E. Calculadora de Potencia Recursiva\n",
        "\n",
        "Calcula la potencia de un número utilizando una función recursiva. Toma dos números como entrada: la base y el exponente. Luego, utiliza una función llamada potencia para calcular la potencia de la base elevada al exponente utilizando recursividad. Finalmente, imprime el resultado de la potencia.\n",
        "\n",
        "**Entrada**\n",
        "El programa espera dos valores enteros separados por espacios en la entrada estándar. El primer número es la base y el segundo número es el exponente.\n",
        "\n",
        "**Salida**\n",
        "El programa imprimirá un solo número entero, que es el resultado de elevar la base al exponente.\n",
        "\n",
        "**Ejemplo**\n",
        "\n",
        "| **Entrada**      | **Salida** |\n",
        "|------------------|------------|\n",
        "| 5 3              | 125        |\n",
        "| 2 4              | 16         |\n"
      ],
      "metadata": {
        "id": "LLYZGd5Mo4ie"
      }
    },
    {
      "cell_type": "code",
      "source": [
        "def potencia(base, exponente):\n",
        "    if exponente==1: return base\n",
        "    return base*potencia(base, exponente-1)\n",
        "\n",
        "base, exponente = input().split()\n",
        "print(potencia(int(base),int(exponente)))"
      ],
      "metadata": {
        "colab": {
          "base_uri": "https://localhost:8080/"
        },
        "id": "RZ9XsazlpEdG",
        "outputId": "c52d9428-bd5f-4576-c7d5-092a6739270a"
      },
      "execution_count": 50,
      "outputs": [
        {
          "output_type": "stream",
          "name": "stdout",
          "text": [
            "5 3\n",
            "125\n"
          ]
        }
      ]
    },
    {
      "cell_type": "code",
      "source": [
        "class TestE(unittest.TestCase):\n",
        "    def test_1(self):\n",
        "        self.assertEqual(potencia(5, 3), 125)\n",
        "\n",
        "    def test_2(self):\n",
        "        self.assertEqual(potencia(2, 4), 16)\n",
        "\n",
        "suite = unittest.TestLoader().loadTestsFromTestCase(TestE)\n",
        "runner = unittest.TextTestRunner(verbosity=2)\n",
        "result = runner.run(suite)"
      ],
      "metadata": {
        "colab": {
          "base_uri": "https://localhost:8080/"
        },
        "id": "Fh7gYkAypExW",
        "outputId": "c0765947-2d44-4659-eac4-c915d2ae2651"
      },
      "execution_count": 51,
      "outputs": [
        {
          "output_type": "stream",
          "name": "stderr",
          "text": [
            "test_1 (__main__.TestE.test_1) ... ok\n",
            "test_2 (__main__.TestE.test_2) ... ok\n",
            "\n",
            "----------------------------------------------------------------------\n",
            "Ran 2 tests in 0.005s\n",
            "\n",
            "OK\n"
          ]
        }
      ]
    },
    {
      "cell_type": "markdown",
      "source": [
        "## F. El ciclo de vida de las bacterias (fácil)\n",
        "\n",
        "Estás estudiando cierto tipo de bacteria y acabas de darte cuenta que su ciclo de vida es bastante predecible. Exactamente $1$ día después de nacer, la bacteria produce dos descendientes. Sin embargo, la bacteria no vuelve a producir ningún descendiente después, aunque tampoco muere.\n",
        "\n",
        "¿Cuántas bacterias vivas habrá después de $N$ días si comienzas tu experimento con una bacteria recién nacida?\n",
        "\n",
        "**Entrada**\n",
        "Un entero $N$. Puedes suponer que $0 \\leq N \\leq 20$.\n",
        "\n",
        "**Salida**\n",
        "Un entero que sea la cantidad de bacterias vivas que habrá después de $N$ días.\n",
        "\n",
        "**Ejemplo**\n",
        "\n",
        "| **Entrada**      | **Salida** |\n",
        "|------------------|------------|\n",
        "| 0                | 1          |\n",
        "| 5                | 63         |\n"
      ],
      "metadata": {
        "id": "99Jw403kpF0j"
      }
    },
    {
      "cell_type": "code",
      "source": [
        "def ciclo_bacterias(dias, bacterias):\n",
        "    if dias==0: return bacterias\n",
        "    return ciclo_bacterias(dias-1, bacterias*2+1)\n",
        "\n",
        "dias = int(input())\n",
        "print(ciclo_bacterias(dias, 1))"
      ],
      "metadata": {
        "colab": {
          "base_uri": "https://localhost:8080/"
        },
        "id": "TUhNOrKPphiO",
        "outputId": "0874c3e6-95c8-45c4-8f3c-271389a7d744"
      },
      "execution_count": 46,
      "outputs": [
        {
          "output_type": "stream",
          "name": "stdout",
          "text": [
            "5\n",
            "63\n"
          ]
        }
      ]
    },
    {
      "cell_type": "code",
      "source": [
        "class TestF(unittest.TestCase):\n",
        "    def test_1(self):\n",
        "        self.assertEqual(ciclo_bacterias(0, 1), 1)\n",
        "\n",
        "    def test_2(self):\n",
        "        self.assertEqual(ciclo_bacterias(5, 1), 63)\n",
        "\n",
        "suite = unittest.TestLoader().loadTestsFromTestCase(TestF)\n",
        "runner = unittest.TextTestRunner(verbosity=2)\n",
        "result = runner.run(suite)"
      ],
      "metadata": {
        "colab": {
          "base_uri": "https://localhost:8080/"
        },
        "id": "_CuDDH4vph0G",
        "outputId": "94947c92-81a2-4929-aa00-a9eca60aaceb"
      },
      "execution_count": 47,
      "outputs": [
        {
          "output_type": "stream",
          "name": "stderr",
          "text": [
            "test_1 (__main__.TestF.test_1) ... ok\n",
            "test_2 (__main__.TestF.test_2) ... ok\n",
            "\n",
            "----------------------------------------------------------------------\n",
            "Ran 2 tests in 0.004s\n",
            "\n",
            "OK\n"
          ]
        }
      ]
    }
  ]
}