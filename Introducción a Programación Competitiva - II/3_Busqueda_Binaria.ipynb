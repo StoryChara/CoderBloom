{
  "nbformat": 4,
  "nbformat_minor": 0,
  "metadata": {
    "colab": {
      "provenance": [],
      "authorship_tag": "ABX9TyOqOxMPT0F42BhvWIVoYX/y",
      "include_colab_link": true
    },
    "kernelspec": {
      "name": "python3",
      "display_name": "Python 3"
    },
    "language_info": {
      "name": "python"
    }
  },
  "cells": [
    {
      "cell_type": "markdown",
      "metadata": {
        "id": "view-in-github",
        "colab_type": "text"
      },
      "source": [
        "<a href=\"https://colab.research.google.com/github/StoryChara/CoderBloom_CPCII/blob/main/Introducci%C3%B3n%20a%20Programaci%C3%B3n%20Competitiva%20-%20II/3_Busqueda_Binaria.ipynb\" target=\"_parent\"><img src=\"https://colab.research.google.com/assets/colab-badge.svg\" alt=\"Open In Colab\"/></a>"
      ]
    },
    {
      "cell_type": "code",
      "execution_count": 2,
      "metadata": {
        "id": "cxG0TJCcYv1M"
      },
      "outputs": [],
      "source": [
        "import unittest"
      ]
    },
    {
      "cell_type": "markdown",
      "source": [
        "# Busqueda Binaria"
      ],
      "metadata": {
        "id": "5mS6PBgGY1d2"
      }
    },
    {
      "cell_type": "markdown",
      "source": [
        "## A. El Hechicero y los Cristales Mágicos\n",
        "\n",
        "Un poderoso hechicero ha creado una fila de N cristales mágicos alineados en su laboratorio. Cada cristal emite una cantidad de energía mágica, medida en unidades enteras. Sin embargo, el hechicero, siempre misterioso, organizó los cristales de una manera peculiar:\n",
        "\n",
        "1. En un punto específico de la fila, los cristales comienzan a empeorar, es decir, la energía de cada cristal empieza a disminuir.\n",
        "2. Antes de ese punto, los cristales mejoran, es decir, la energía aumenta de izquierda a derecha.\n",
        "\n",
        "Tu tarea es ayudar al hechicero a encontrar el último cristal en el que la energía todavía mejora (el punto donde comienza a empeorar).\n",
        "\n",
        "Entrada\n",
        "* Un entero N que indica el número de cristales en la fila $(2 \\leq N \\leq 10^5)$.\n",
        "* Una lista de números enteros positivos $\\text{energia}[1], \\text{energia}[2], \\ldots, \\text{energia}[N]$ que representa la energía de los cristales. Se garantiza que la lista cumple con las siguientes propiedades:\n",
        "    * Existe un índice $p$ tal que $\\text{energia}[i] < \\text{energia}[i+1]$ para todo $i < p$, y\n",
        "    * $\\text{energia}[i] > \\text{energia}[i+1]$ para todo $i \\geq p$.\n",
        "\n",
        "**Salida**\n",
        "Un único entero $p$, que es el índice del último cristal en el que la energía todavía mejora.\n",
        "\n",
        "**Casos de Prueba**\n",
        "\n",
        "| Entrada | Salida |\n",
        "|---------|--------|\n",
        "| 6 <br> 1 3 5 7 6 2 | 4 |\n",
        "| 7 <br> 10 20 30 40 50 45 30 | 5 |\n",
        "| 10 <br> 5 10 15 20 25 30 28 22 18 10 | 6 |\n",
        "| 5 <br> 2 4 6 8 5 | 4 |\n",
        "| 9 <br> 1 2 3 4 5 6 7 6 5 | 7 |"
      ],
      "metadata": {
        "id": "p_uJY-fdY4XG"
      }
    },
    {
      "cell_type": "code",
      "source": [
        "def hechicero(lista:str) -> int:\n",
        "    cristales = [int(x) for x in list(lista.split())]\n",
        "    maximo = max(cristales)\n",
        "    return cristales.index(maximo)+1\n",
        "\n",
        "input()\n",
        "lista = input()\n",
        "print(hechicero(lista))"
      ],
      "metadata": {
        "colab": {
          "base_uri": "https://localhost:8080/"
        },
        "id": "1oREXtkEZPu9",
        "outputId": "544fda6c-d11a-44be-976d-78181d4ec23d"
      },
      "execution_count": null,
      "outputs": [
        {
          "output_type": "stream",
          "name": "stdout",
          "text": [
            "10\n",
            "5 10 15 20 25 30 28 22 18 10\n",
            "6\n"
          ]
        }
      ]
    },
    {
      "cell_type": "code",
      "source": [
        "class TestA(unittest.TestCase):\n",
        "    def test_1(self): self.assertEqual(hechicero('1 3 5 7 6 2'), 4)\n",
        "    def test_2(self): self.assertEqual(hechicero('10 20 30 40 50 45 30'), 5)\n",
        "    def test_3(self): self.assertEqual(hechicero('5 10 15 20 25 30 28 22 18 10'), 6)\n",
        "    def test_4(self): self.assertEqual(hechicero('2 4 6 8 5'), 4)\n",
        "    def test_5(self): self.assertEqual(hechicero('1 2 3 4 5 6 7 6 5'), 7)\n",
        "\n",
        "suite = unittest.TestLoader().loadTestsFromTestCase(TestA)\n",
        "runner = unittest.TextTestRunner(verbosity=2)\n",
        "result = runner.run(suite)"
      ],
      "metadata": {
        "colab": {
          "base_uri": "https://localhost:8080/"
        },
        "id": "bi5slbzVaAU2",
        "outputId": "e25c4247-9624-4a63-f491-5c6987afc4ea"
      },
      "execution_count": null,
      "outputs": [
        {
          "output_type": "stream",
          "name": "stderr",
          "text": [
            "test_1 (__main__.TestA.test_1) ... ok\n",
            "test_2 (__main__.TestA.test_2) ... ok\n",
            "test_3 (__main__.TestA.test_3) ... ok\n",
            "test_4 (__main__.TestA.test_4) ... ok\n",
            "test_5 (__main__.TestA.test_5) ... ok\n",
            "\n",
            "----------------------------------------------------------------------\n",
            "Ran 5 tests in 0.009s\n",
            "\n",
            "OK\n"
          ]
        }
      ]
    },
    {
      "cell_type": "markdown",
      "source": [
        "## B. John Carter y los cactus del desierto\n",
        "\n",
        "John Carter está huyendo a caballo de los indios de Arizona, pero el horizonte está lleno de cactus. John Carter se aprendió rápidamente las posiciones de cada cactus y, al voltear a ver a los indios que lo persiguen, pensó en algunas posiciones en el horizonte a las cuales podría dirigir su caballo para escapar. Ayuda a John Carter a saber cuánto espacio hay entre los dos cactus adyacentes a la posición por la cual está considerando pasar.\n",
        "\n",
        "**Entrada**\n",
        "Un entero $N$ seguido de las posiciones $C_1, ..., C_N$ de los cactus en el horizonte. Posteriormente, un entero $M$ seguido de las posiciones $P_1, ..., P_M$ consideradas. Puedes suponer que $2 \\leq N, M \\leq 10,000$, que todas las posiciones están en el rango de $-100,000$ a $100,000$ y que $\\min{C_i} \\leq P_j \\leq \\max{C_i}$ para toda $1 \\leq j \\leq M$.\n",
        "\n",
        "**Salida**\n",
        "$M$ enteros $D_1, ..., D_M$, donde $D_j$ es la distancia entre los dos cactus adyacentes a la posición $P_j$ por la que John Carter está considerando pasar, o $0$ si John Carter se estrellará con un cactus.\n",
        "\n",
        "**Ejemplo**\n",
        "\n",
        "|Entrada    | Salida  |\n",
        "|-----------|---------|\n",
        "| 5 <br> 3 1 4 5 9 <br> 4 <br> 2 7 1 8 | 2 4 0 4 |"
      ],
      "metadata": {
        "id": "98zvuz9THHyC"
      }
    },
    {
      "cell_type": "code",
      "source": [
        "import bisect\n",
        "\n",
        "def encontrar_distancia_cactus(n, cactus, m, posiciones):\n",
        "    cactus.sort()\n",
        "    resultados = []\n",
        "\n",
        "    for pos in posiciones:\n",
        "        idx = bisect.bisect_left(cactus, pos)\n",
        "\n",
        "        if idx < len(cactus) and cactus[idx] == pos: resultados.append(0)\n",
        "        else:\n",
        "            cactus_izquierdo = cactus[idx - 1]\n",
        "            cactus_derecho = cactus[idx]\n",
        "            distancia = cactus_derecho - cactus_izquierdo\n",
        "            resultados.append(distancia)\n",
        "\n",
        "    return resultados\n",
        "\n",
        "n = int(input())\n",
        "cactus = list(map(int, input().split()))\n",
        "m = int(input())\n",
        "posiciones = list(map(int, input().split()))\n",
        "\n",
        "print(' '.join(map(str, encontrar_distancia_cactus(n, cactus, m, posiciones))))"
      ],
      "metadata": {
        "colab": {
          "base_uri": "https://localhost:8080/"
        },
        "id": "1xNaH3l1NCbB",
        "outputId": "41275fec-c81a-4d0a-b8ee-f4f0c76d0cd6"
      },
      "execution_count": 9,
      "outputs": [
        {
          "output_type": "stream",
          "name": "stdout",
          "text": [
            "5\n",
            "3 1 4 5 9\n",
            "4\n",
            "2 7 1 8\n",
            "2 4 0 4\n"
          ]
        }
      ]
    },
    {
      "cell_type": "code",
      "source": [
        "class TestB(unittest.TestCase):\n",
        "    def test_1(self): self.assertEqual(encontrar_distancia_cactus(5,[3,1,4,5,9], 4, [2,7,1,8]), [2,4,0,4])\n",
        "\n",
        "suite = unittest.TestLoader().loadTestsFromTestCase(TestB)\n",
        "runner = unittest.TextTestRunner(verbosity=2)\n",
        "result = runner.run(suite)"
      ],
      "metadata": {
        "colab": {
          "base_uri": "https://localhost:8080/"
        },
        "id": "TtEt09k7LKJc",
        "outputId": "5a554c05-0a70-48c4-c377-612b50189b05"
      },
      "execution_count": 7,
      "outputs": [
        {
          "output_type": "stream",
          "name": "stderr",
          "text": [
            "test_1 (__main__.TestB.test_1) ... ok\n",
            "\n",
            "----------------------------------------------------------------------\n",
            "Ran 1 test in 0.003s\n",
            "\n",
            "OK\n"
          ]
        }
      ]
    },
    {
      "cell_type": "markdown",
      "source": [
        "## C. Agresivos\n",
        "\n",
        "Una importante compañía acaba de adquirir nuevas instaciones con $N$ cubículos para sus programadores, los cubículos están ubicados a lo largo de una línea recta en posiciones enteras.\n",
        "\n",
        "Sus $P$ programadores son demasiado orgullosos y suelen culpar de sus propios errores a sus compañeros cercanos. Para prevenir este tipo de hostilidades la empresa quiere asignar los programadores a los cubículos de tal manera que la distancia mínima entre cualesquiera dos de los programadores sea tan grande como sea posible.\n",
        "\n",
        "**Problema**\n",
        "Escribe un programa que dado el número de programadores y la configuración de los cubículos, determine cómo asignar los cubículos de manera que la distancia mínima sea la mas grande posible.\n",
        "\n",
        "**Entrada**\n",
        "Línea 1: Dos enteros separados por un espacio indicando $N$ y $P$ respectivamente.\n",
        "\n",
        "Siguientes $N$ líneas. Cada línea representará la posición de un cubículo y contendrá un único entero.\n",
        "\n",
        "**Salida**\n",
        "Línea 1: Un entero indicando la distancia mínima mas grande.\n",
        "\n",
        "| Entrada | Salida |\n",
        "|---------|--------|\n",
        "| 5 3 <br> 1 <br> 2 <br> 8 <br> 4 <br> 9 | 3 |"
      ],
      "metadata": {
        "id": "UdRk1mKBF6H0"
      }
    },
    {
      "cell_type": "code",
      "source": [
        "def agresivo(N, P, cubiculos):\n",
        "    cubiculos.sort()\n",
        "\n",
        "    l = 1\n",
        "    r = cubiculos[N-1]\n",
        "\n",
        "    while l+1 < r:\n",
        "        m = (l+r)//2\n",
        "\n",
        "        prev = cubiculos[0]\n",
        "        cont = 1\n",
        "\n",
        "        for _ in range(1, N):\n",
        "            if cubiculos[_] - prev >= m:\n",
        "                cont +=1\n",
        "                prev = cubiculos[_]\n",
        "\n",
        "                if cont >= P: break\n",
        "\n",
        "        if cont >= P: l=m\n",
        "        else: r=m\n",
        "\n",
        "    return l\n",
        "\n",
        "N, P = map(int, input().split())\n",
        "cubiculos = []\n",
        "for _ in range(N): cubiculos.append(int(input()))\n",
        "\n",
        "print(agresivo(N, P, cubiculos))"
      ],
      "metadata": {
        "colab": {
          "base_uri": "https://localhost:8080/"
        },
        "id": "bGpwphpm_cEV",
        "outputId": "0df8df12-a93d-4631-e1e0-512614e22e31"
      },
      "execution_count": 3,
      "outputs": [
        {
          "output_type": "stream",
          "name": "stdout",
          "text": [
            "5 3\n",
            "1\n",
            "2\n",
            "8\n",
            "4\n",
            "9\n",
            "3\n"
          ]
        }
      ]
    },
    {
      "cell_type": "code",
      "source": [
        "def puede_colocar_programadores(cubiculos, p, distancia_minima):\n",
        "    colocados = 1\n",
        "    ultima_posicion = cubiculos[0]\n",
        "\n",
        "    for i in range(1, len(cubiculos)):\n",
        "        if cubiculos[i] - ultima_posicion >= distancia_minima:\n",
        "            colocados += 1\n",
        "            ultima_posicion = cubiculos[i]\n",
        "            if colocados == p: return True\n",
        "\n",
        "    return False\n",
        "\n",
        "def programadores_agresivos(n, p, cubiculos):\n",
        "    cubiculos.sort()\n",
        "    izquierda = 0\n",
        "    derecha = cubiculos[-1] - cubiculos[0]\n",
        "    respuesta = 0\n",
        "\n",
        "    while izquierda <= derecha:\n",
        "        medio = (izquierda + derecha) // 2\n",
        "\n",
        "        if puede_colocar_programadores(cubiculos, p, medio):\n",
        "            respuesta = medio\n",
        "            izquierda = medio + 1\n",
        "        else:\n",
        "            derecha = medio - 1\n",
        "\n",
        "    return respuesta\n",
        "\n",
        "N, P = map(int, input().split())\n",
        "cubiculos = []\n",
        "for _ in range(N): cubiculos.append(int(input()))\n",
        "\n",
        "print(programadores_agresivos(N, P, cubiculos))"
      ],
      "metadata": {
        "colab": {
          "base_uri": "https://localhost:8080/"
        },
        "id": "mBeUW9-SO17E",
        "outputId": "99969cbe-4678-4d29-97da-c8e240c8fdbb"
      },
      "execution_count": 16,
      "outputs": [
        {
          "output_type": "stream",
          "name": "stdout",
          "text": [
            "5 3\n",
            "1\n",
            "2\n",
            "8\n",
            "4\n",
            "9\n",
            "3\n"
          ]
        }
      ]
    },
    {
      "cell_type": "code",
      "source": [
        "class TestC(unittest.TestCase):\n",
        "    def test_1(self): self.assertEqual(programadores_agresivos(5, 3, [1,2,8,4,9]), 3)\n",
        "\n",
        "suite = unittest.TestLoader().loadTestsFromTestCase(TestC)\n",
        "runner = unittest.TextTestRunner(verbosity=2)\n",
        "result = runner.run(suite)"
      ],
      "metadata": {
        "colab": {
          "base_uri": "https://localhost:8080/"
        },
        "id": "Tk3NH7qGG2vk",
        "outputId": "84c0af84-5f57-430d-be00-e2b829d33521"
      },
      "execution_count": 17,
      "outputs": [
        {
          "output_type": "stream",
          "name": "stderr",
          "text": [
            "test_1 (__main__.TestC.test_1) ... ok\n",
            "\n",
            "----------------------------------------------------------------------\n",
            "Ran 1 test in 0.002s\n",
            "\n",
            "OK\n"
          ]
        }
      ]
    },
    {
      "cell_type": "markdown",
      "source": [
        "## D. Coleccionista de Tarjetas\n",
        "\n",
        "Acudes a una tienda de tarjetas coleccionables a expandir tu famosa colección, el vendedor de la tienda tiene todas las tarjetas ordenadas en $n$ pilas ordenadas de tarjetas, de modo que la pila $i$ tiene $a_i$ tarjetas. Todas las tarjetas están numeradas de modo que la primera pila contiene las tarjetas numeradas de $1$ a $a_1$, la segunda pila contiene tarjetas numeradas desde $a_1+1$ hasta $a_1+a_2$ y así.\n",
        "\n",
        "Para tu mala suerte solo tienes suficiente dinero para comprar $m$ tarjetas y quieres aprovechar al máximo tu compra, por lo que le pides al vendedor que te diga los números de las $m$ tarjetas más valiosas que están a la venta. El vendedor acepta tu petición y te dice los números de las tarjetas más valiosas, pero solo te las venderá si le dices en que pila se encuentra cada una de las tarjetas que diga.\n",
        "\n",
        "Has un programa que para cada tarjeta que el vendedor te diga, imprima la pila en la que se encuentra dicha tarjeta.\n",
        "\n",
        "**Entrada**\n",
        "En la primera linea un único entero $n$ que es el total de pilas que hay en la tienda.\n",
        "\n",
        "En la segunda linea $n$ enteros $a_1,a_2, ... , a_i$ separados por un espacio, donde $a_i$ es la cantidad de tarjetas que hay en la pila $i$.\n",
        "\n",
        "En la tercera linea un único entero $m$ que es la cantidad máxima de tarjetas que puedes comprar.\n",
        "\n",
        "En la ultima linea $m$ enteros $q_1,q_2 ... q_i $ separados por un espacio, donde $q_i$ es el número de la $i$-esima tarjeta más valiosa que esta a la venta.\n",
        "\n",
        "**Salida**\n",
        "Imprime $m$ lineas donde la $i$-esima linea es la pila en donde se encuentra la tarjeta $q_i$.\n",
        "\n",
        "**Ejemplo**\n",
        "\n",
        "| Entrada | Salida |\n",
        "|---------|--------|\n",
        "| 5 <br> 2 7 3 4 9 <br> 3 <br> 1 25 11 | 1 <br> 5 <br> 3 |\n",
        "\n",
        "**Límites**\n",
        "* $1 ≤ n ≤ 10^5$\n",
        "* $1 ≤ a_i ≤ 10^3, a1 + a2 + ... + an ≤ 10^6$\n",
        "* $1 ≤ m ≤ 10^5$\n",
        "* $1 ≤ q_i ≤ a_1 + a_2 + ... + a_n$\n",
        "\n",
        "\n",
        "\n",
        "\n"
      ],
      "metadata": {
        "id": "p1djioYBJ-M9"
      }
    },
    {
      "cell_type": "code",
      "source": [
        "def coleccionista(n, tarjetas, m, valiosas):\n",
        "    acumulado = 0\n",
        "    limites = []\n",
        "\n",
        "    for cantidad in tarjetas:\n",
        "        acumulado += cantidad\n",
        "        limites.append(acumulado)\n",
        "\n",
        "    pilas = []\n",
        "\n",
        "    for tarjeta in valiosas:\n",
        "        pila = 1\n",
        "        for i in range(n):\n",
        "            if tarjeta <= limites[i]:\n",
        "                pila = i + 1\n",
        "                break\n",
        "        pilas.append(pila)\n",
        "\n",
        "    return pilas\n",
        "\n",
        "n = int(input())\n",
        "tarjetas = list(map(int, input().split()))\n",
        "m = int(input())\n",
        "valiosas = list(map(int, input().split()))\n",
        "\n",
        "print('\\n'.join(map(str, coleccionista(n, tarjetas, m, valiosas))))"
      ],
      "metadata": {
        "colab": {
          "base_uri": "https://localhost:8080/"
        },
        "id": "2fbnUMFPLLgb",
        "outputId": "b4f0ab6d-15dd-4b9e-c194-1191b110a1f1"
      },
      "execution_count": 20,
      "outputs": [
        {
          "output_type": "stream",
          "name": "stdout",
          "text": [
            "5\n",
            "2 7 3 4 9\n",
            "3\n",
            "1 25 11\n",
            "1\n",
            "5\n",
            "3\n"
          ]
        }
      ]
    },
    {
      "cell_type": "code",
      "source": [
        "class TestD(unittest.TestCase):\n",
        "    def test_1(self): self.assertEqual(coleccionista(5, [2,7,3,4,9], 3, [1,25,11]), [1,5,3])\n",
        "\n",
        "suite = unittest.TestLoader().loadTestsFromTestCase(TestD)\n",
        "runner = unittest.TextTestRunner(verbosity=2)\n",
        "result = runner.run(suite)"
      ],
      "metadata": {
        "colab": {
          "base_uri": "https://localhost:8080/"
        },
        "id": "Jp_DBWfJLL09",
        "outputId": "131b54c0-d03c-46a8-e7f0-814896bc7986"
      },
      "execution_count": 22,
      "outputs": [
        {
          "output_type": "stream",
          "name": "stderr",
          "text": [
            "test_1 (__main__.TestD.test_1) ... ok\n",
            "\n",
            "----------------------------------------------------------------------\n",
            "Ran 1 test in 0.002s\n",
            "\n",
            "OK\n"
          ]
        }
      ]
    },
    {
      "cell_type": "markdown",
      "source": [
        "## E. Expandiendo el negocio\n",
        "\n",
        "Las tortas de chilaquiles son un platillo callejero muy famoso en la Ciudad de México. Recientemente CCP o Chilaquiles Con Pan un nuevo negocio de tortas ha visto un crecimiento notable, esto por las ricas tortas que ofrecen, y ahora están planeando en expandirse abriendo más sucursales.\n",
        "Los dueños de CCP han elaborado un plan de expansión que consiste en escoger varios locales en renta dentro de la misma avenida y abrir sus sucursales ahí. Sin embargo, se han dado cuenta que si eligen locales que se encuentren muy cerca no van a obtener mucha rentabilidad debido a que van a cubrir menos zonas, y por lo tanto, podrían perder muchos clientes potenciales.\n",
        "Para evitar esto, los dueños han decidido contactarte para que les ayudes con la distribución de sus locales. La primer consulta que deciden hacerte es: dadas las posiciones de los locales disponibles y el número de sucursales, ¿Cuál es la máxima distancia en la que se pueden colocar dos sucursales consecutivas? Siendo que todas las sucursales tienen que estar separadas al menos por dicha distancia. Cabe destacar que la distancia entre las posiciones de dos locales distintos se calcula como el valor absoluto entre las mismas.\n",
        "\n",
        "**Entrada**\n",
        "En la primera línea un entero $n$ indicando el número de locales disponibles.\n",
        "\n",
        "En la segunda línea $n$ enteros $l_i$ cada uno indicando la posición del local correspondiente.\n",
        "\n",
        "En la tercer línea un entero $m$ indicando la cantidad de negocios de tortas que se planean abrir.\n",
        "\n",
        "**Salida**\n",
        "Un único entero indicando la máxima distancia a la que se pueden colocar los negocios siguiendo las consideraciones antes descritas.\n",
        "\n",
        "**Ejemplo**\n",
        "\n",
        "| Entrada | Salida |\n",
        "|---------|--------|\n",
        "| 2 <br> 1 5 <br> 2 | 4 |\n",
        "| 6 <br> 7 8 2 3 4 1 <br> 3 | 3 |\n",
        "\n",
        "**Límites**\n",
        "* $2 \\leq n \\leq 10^5$\n",
        "* $0 \\leq l_i \\leq 10^9$\n",
        "* $2 \\leq m \\leq n$\n",
        "\n"
      ],
      "metadata": {
        "id": "tQPqj0tBLMFz"
      }
    },
    {
      "cell_type": "code",
      "source": [
        "def es_factible(distancia):\n",
        "        sucursales_colocadas = 1\n",
        "        ultima_pos = locales[0]\n",
        "\n",
        "        for pos in locales[1:]:\n",
        "            if pos - ultima_pos >= distancia:\n",
        "                sucursales_colocadas += 1\n",
        "                ultima_pos = pos\n",
        "                if sucursales_colocadas == m: return True\n",
        "\n",
        "        return False\n",
        "\n",
        "def expandiendo_negocio(locales, m):\n",
        "    locales.sort()\n",
        "    min_distancia = 1\n",
        "    max_distancia = locales[-1] - locales[0]\n",
        "\n",
        "    while min_distancia <= max_distancia:\n",
        "        distancia_media = (min_distancia + max_distancia) // 2\n",
        "\n",
        "        if es_factible(distancia_media): min_distancia = distancia_media + 1\n",
        "        else: max_distancia = distancia_media - 1\n",
        "\n",
        "    return max_distancia\n",
        "\n",
        "input()\n",
        "locales = list(map(int, input().split()))\n",
        "m = int(input())\n",
        "\n",
        "print(expandiendo_negocio(locales, m))"
      ],
      "metadata": {
        "colab": {
          "base_uri": "https://localhost:8080/"
        },
        "id": "26tHwELkOR3x",
        "outputId": "ca457153-d75f-40d6-e414-e847846764f5"
      },
      "execution_count": 24,
      "outputs": [
        {
          "output_type": "stream",
          "name": "stdout",
          "text": [
            "6\n",
            "7 8 2 3 4 1\n",
            "2\n",
            "7\n"
          ]
        }
      ]
    },
    {
      "cell_type": "code",
      "source": [
        "import bisect\n",
        "\n",
        "def puede_colocar_sucursales(locales, num_sucursales, distancia_minima):\n",
        "    colocadas = 1\n",
        "    ultima_posicion = locales[0]\n",
        "\n",
        "    for i in range(1, len(locales)):\n",
        "        if locales[i] - ultima_posicion >= distancia_minima:\n",
        "            colocadas += 1\n",
        "            ultima_posicion = locales[i]\n",
        "            if colocadas == num_sucursales: return True\n",
        "\n",
        "    return False\n",
        "\n",
        "def expandir_negocio(locales, m):\n",
        "    locales.sort()\n",
        "    izquierda = 1\n",
        "    derecha = locales[-1] - locales[0]\n",
        "\n",
        "    resultado = 0\n",
        "\n",
        "    while izquierda <= derecha:\n",
        "        medio = (izquierda + derecha) // 2\n",
        "\n",
        "        if puede_colocar_sucursales(locales, m, medio):\n",
        "            resultado = medio\n",
        "            izquierda = medio + 1\n",
        "        else: derecha = medio - 1\n",
        "\n",
        "    return resultado\n",
        "\n",
        "\n",
        "input()\n",
        "locales = list(map(int, input().split()))\n",
        "m = int(input())\n",
        "\n",
        "print(expandir_negocio(locales, m))"
      ],
      "metadata": {
        "colab": {
          "base_uri": "https://localhost:8080/"
        },
        "id": "l4x1FFdlZe9W",
        "outputId": "9ae5d487-d79d-4979-f633-66bdfb5991e2"
      },
      "execution_count": 28,
      "outputs": [
        {
          "output_type": "stream",
          "name": "stdout",
          "text": [
            "6\n",
            "7 8 2 3 4 1\n",
            "3\n",
            "3\n"
          ]
        }
      ]
    },
    {
      "cell_type": "code",
      "source": [
        "class TestE(unittest.TestCase):\n",
        "    def test_1(self): self.assertEqual(expandir_negocio([1,5], 2), 4)\n",
        "    def test_2(self): self.assertEqual(expandir_negocio([7,8,2,3,4,1], 3), 3)\n",
        "\n",
        "suite = unittest.TestLoader().loadTestsFromTestCase(TestE)\n",
        "runner = unittest.TextTestRunner(verbosity=2)\n",
        "result = runner.run(suite)"
      ],
      "metadata": {
        "colab": {
          "base_uri": "https://localhost:8080/"
        },
        "id": "uD2I_IOeOSL7",
        "outputId": "ccb5e085-8241-4eec-a38c-abeb71d4ea0c"
      },
      "execution_count": 29,
      "outputs": [
        {
          "output_type": "stream",
          "name": "stderr",
          "text": [
            "test_1 (__main__.TestE.test_1) ... ok\n",
            "test_2 (__main__.TestE.test_2) ... ok\n",
            "\n",
            "----------------------------------------------------------------------\n",
            "Ran 2 tests in 0.004s\n",
            "\n",
            "OK\n"
          ]
        }
      ]
    },
    {
      "cell_type": "markdown",
      "source": [
        "## F. Trajineras\n",
        "\n",
        "Las trajineras han estado desde hace muchos años en Xochimilco paseando personas de todo el país y del mundo. Es por ello, que Karel ha decidido ir de paseo en trajineras con toda su familia.\n",
        "\n",
        "La familia de Karel es de $N$ robots (incluyendo a Karel) formados en una fila, pero, como en todas las familias, no todos son del mismo tamaño y por ende no todos pesan lo mismo. Además, hay que considerar que todas las trajineras tienen una capacidad de carga $L$ y que por ningún motivo se puede exceder esa capacidad. Como un gran amigo de Karel, has decidido ayudarle a que su viaje familiar sea todo un éxito.\n",
        "\n",
        "**Problema**\n",
        "Dada la carga máxima $L$ de la trajinera y los pesos $a_i$ de los $N$ integrantes de la familia de Karel en el orden en el que se formaron, debes ayudar a Karel a encontrar el máximo número $K$ tal que cualesquier grupo continuo de $L$ familiares que se elija de la fila no se excederá la capacidad $L$ de la trajinera.\n",
        "\n",
        "**Entrada**\n",
        "En la primera línea dos enteros $N$ y $L$, que representan la cantidad de robots en la familia de Karel y la carga máxima de las trajineras, respectivamente.\n",
        "\n",
        "En la segunda línea $N$ valores enteros $a_i$ qué representa el peso del i-ésimo robot en la fila.\n",
        "\n",
        "**Salida**\n",
        "Una sola línea con un entero indicando el máximo $K$ tal que ningún grupo de $K$ robots continuos en la fila exceda la carga máxima. Observa que el máximo $K$ puede ser $0$.\n",
        "\n",
        "**Ejemplo**\n",
        "\n",
        "| Entrada | Salida |\n",
        "|---------|--------|\n",
        "| 4 2 <br> 1 1 1 1 | 2 |\n",
        "| 4 3 <br> 2 2 1 1 | 1 |\n",
        "\n",
        "**Subtask #1 [30 pts]**\n",
        "* $2 \\leq N \\leq 3000$\n",
        "* $1 \\leq a_i \\leq 500$\n",
        "* $1 \\leq L \\leq 5000000$\n",
        "\n",
        "**Subtask #2 [70 pts]**\n",
        "* $1 \\leq N \\leq 100000$\n",
        "* $1 \\leq a_i \\leq 10000$\n",
        "* $1 \\leq L \\leq 1000000000$"
      ],
      "metadata": {
        "id": "GgTKWJO3RZrn"
      }
    },
    {
      "cell_type": "code",
      "source": [
        "def puede_formar_grupos(pesos, k, capacidad_max):\n",
        "    n = len(pesos)\n",
        "\n",
        "    if k == 0: return True\n",
        "    if k > n: return False\n",
        "\n",
        "    suma_actual = sum(pesos[:k])\n",
        "\n",
        "    if suma_actual > capacidad_max: return False\n",
        "\n",
        "    for i in range(k, n):\n",
        "        suma_actual = suma_actual - pesos[i - k] + pesos[i]\n",
        "        if suma_actual > capacidad_max: return False\n",
        "\n",
        "    return True\n",
        "\n",
        "def trajineras(pesos, l):\n",
        "    izquierda = 0\n",
        "    derecha = n\n",
        "    resultado = 0\n",
        "\n",
        "    while izquierda <= derecha:\n",
        "        medio = (izquierda + derecha) // 2\n",
        "\n",
        "        if puede_formar_grupos(pesos, medio, l):\n",
        "            resultado = medio\n",
        "            izquierda = medio + 1\n",
        "        else: derecha = medio - 1\n",
        "\n",
        "    return resultado\n",
        "\n",
        "n, l = map(int, input().split())\n",
        "pesos = list(map(int, input().split()))\n",
        "\n",
        "print(trajineras(pesos, l))"
      ],
      "metadata": {
        "colab": {
          "base_uri": "https://localhost:8080/"
        },
        "id": "MoWp9apxSZ6P",
        "outputId": "95164711-a418-43ce-d866-a24b1700f690"
      },
      "execution_count": 34,
      "outputs": [
        {
          "output_type": "stream",
          "name": "stdout",
          "text": [
            "4 3\n",
            "2 2 1 1\n",
            "1\n"
          ]
        }
      ]
    },
    {
      "cell_type": "code",
      "source": [
        "class TestF(unittest.TestCase):\n",
        "    def test_1(self): self.assertEqual(trajineras([1,1,1,1], 2), 2)\n",
        "    def test_2(self): self.assertEqual(trajineras([2,2,1,1], 3), 1)\n",
        "\n",
        "suite = unittest.TestLoader().loadTestsFromTestCase(TestF)\n",
        "runner = unittest.TextTestRunner(verbosity=2)\n",
        "result = runner.run(suite)"
      ],
      "metadata": {
        "colab": {
          "base_uri": "https://localhost:8080/"
        },
        "id": "rbsCvQ1kSaMv",
        "outputId": "779b6f2a-f4e7-48c1-8f18-507da49d644d"
      },
      "execution_count": 35,
      "outputs": [
        {
          "output_type": "stream",
          "name": "stderr",
          "text": [
            "test_1 (__main__.TestF.test_1) ... ok\n",
            "test_2 (__main__.TestF.test_2) ... ok\n",
            "\n",
            "----------------------------------------------------------------------\n",
            "Ran 2 tests in 0.006s\n",
            "\n",
            "OK\n"
          ]
        }
      ]
    }
  ]
}